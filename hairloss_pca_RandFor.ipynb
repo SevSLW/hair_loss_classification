{
 "cells": [
  {
   "cell_type": "code",
   "execution_count": 1,
   "metadata": {
    "collapsed": true,
    "ExecuteTime": {
     "start_time": "2024-01-10T04:16:00.579066Z",
     "end_time": "2024-01-10T04:16:01.228987Z"
    }
   },
   "outputs": [],
   "source": [
    "import pandas as pd\n",
    "import numpy as np\n",
    "import matplotlib.pyplot as plt\n",
    "from sklearn.metrics import confusion_matrix\n",
    "from sklearn.model_selection import train_test_split\n",
    "from sklearn.preprocessing import StandardScaler\n",
    "from sklearn.decomposition import PCA\n",
    "from sklearn.metrics import accuracy_score, classification_report\n",
    "from sklearn.model_selection import GridSearchCV"
   ]
  },
  {
   "cell_type": "code",
   "execution_count": 1,
   "outputs": [],
   "source": [],
   "metadata": {
    "collapsed": false,
    "ExecuteTime": {
     "start_time": "2024-01-10T04:16:01.233995Z",
     "end_time": "2024-01-10T04:16:01.237183Z"
    }
   }
  },
  {
   "cell_type": "code",
   "execution_count": 2,
   "outputs": [],
   "source": [
    "data = pd.read_csv('hair_loss.csv')\n",
    "X = data.drop('hair_fall', axis=1)\n",
    "y = data.hair_fall"
   ],
   "metadata": {
    "collapsed": false,
    "ExecuteTime": {
     "start_time": "2024-01-10T04:16:01.240719Z",
     "end_time": "2024-01-10T04:16:01.377258Z"
    }
   }
  },
  {
   "cell_type": "code",
   "execution_count": 3,
   "outputs": [],
   "source": [
    "X_train, X_test, y_train, y_test = train_test_split(X, y, test_size=0.3, random_state=42)"
   ],
   "metadata": {
    "collapsed": false,
    "ExecuteTime": {
     "start_time": "2024-01-10T04:16:01.379699Z",
     "end_time": "2024-01-10T04:16:01.409402Z"
    }
   }
  },
  {
   "cell_type": "code",
   "execution_count": 4,
   "outputs": [],
   "source": [
    "scaler = StandardScaler()\n",
    "X_train = scaler.fit_transform(X_train)\n",
    "X_test = scaler.fit_transform(X_test)"
   ],
   "metadata": {
    "collapsed": false,
    "ExecuteTime": {
     "start_time": "2024-01-10T04:16:01.408254Z",
     "end_time": "2024-01-10T04:16:01.449581Z"
    }
   }
  },
  {
   "cell_type": "code",
   "execution_count": 5,
   "outputs": [
    {
     "name": "stdout",
     "output_type": "stream",
     "text": [
      "[0.102183   0.10148124 0.10069052 0.10033698 0.09992652 0.09965502\n",
      " 0.09957524 0.09928667 0.09847635 0.09838846]\n"
     ]
    },
    {
     "data": {
      "text/plain": "array([0.10362688, 0.10157251, 0.10104229, 0.10054686, 0.10024395,\n       0.09985885, 0.09928952, 0.09881759, 0.09769956, 0.09730199])"
     },
     "execution_count": 5,
     "metadata": {},
     "output_type": "execute_result"
    }
   ],
   "source": [
    "pca = PCA()\n",
    "pca.fit_transform(X_train)\n",
    "print(pca.explained_variance_ratio_)\n",
    "pca.fit_transform(X_test)\n",
    "\n",
    "pca.explained_variance_ratio_"
   ],
   "metadata": {
    "collapsed": false,
    "ExecuteTime": {
     "start_time": "2024-01-10T04:16:01.438975Z",
     "end_time": "2024-01-10T04:16:01.498457Z"
    }
   }
  },
  {
   "cell_type": "code",
   "execution_count": 6,
   "outputs": [],
   "source": [
    "from sklearn.ensemble import RandomForestClassifier\n",
    "model = RandomForestClassifier(n_estimators=100, random_state=42)\n",
    "model.fit(X_train, y_train)\n",
    "y_pred = model.predict(X_test)"
   ],
   "metadata": {
    "collapsed": false,
    "ExecuteTime": {
     "start_time": "2024-01-10T04:16:01.500026Z",
     "end_time": "2024-01-10T04:16:28.125896Z"
    }
   }
  },
  {
   "cell_type": "code",
   "execution_count": 6,
   "outputs": [],
   "source": [],
   "metadata": {
    "collapsed": false,
    "ExecuteTime": {
     "start_time": "2024-01-10T04:16:28.125594Z",
     "end_time": "2024-01-10T04:16:28.128892Z"
    }
   }
  },
  {
   "cell_type": "code",
   "execution_count": 6,
   "outputs": [],
   "source": [],
   "metadata": {
    "collapsed": false,
    "ExecuteTime": {
     "start_time": "2024-01-10T04:16:28.131029Z",
     "end_time": "2024-01-10T04:16:28.134972Z"
    }
   }
  },
  {
   "cell_type": "code",
   "execution_count": 7,
   "outputs": [
    {
     "data": {
      "text/plain": "array([[971, 866, 894, 786, 698, 821],\n       [923, 839, 902, 764, 757, 839],\n       [916, 862, 847, 810, 693, 798],\n       [960, 849, 908, 742, 722, 812],\n       [943, 842, 889, 779, 718, 841],\n       [890, 873, 876, 802, 769, 799]])"
     },
     "execution_count": 7,
     "metadata": {},
     "output_type": "execute_result"
    }
   ],
   "source": [
    "cm = confusion_matrix(y_test, y_pred)\n",
    "cm"
   ],
   "metadata": {
    "collapsed": false,
    "ExecuteTime": {
     "start_time": "2024-01-10T04:16:28.137122Z",
     "end_time": "2024-01-10T04:16:28.148514Z"
    }
   }
  },
  {
   "cell_type": "code",
   "execution_count": 8,
   "outputs": [
    {
     "data": {
      "text/plain": "<Figure size 640x480 with 2 Axes>",
      "image/png": "[encoded data removed]"
     },
     "metadata": {},
     "output_type": "display_data"
    }
   ],
   "source": [
    "classes = np.unique(y_train)\n",
    "plt.imshow(cm, interpolation='nearest', cmap=plt.cm.Blues)\n",
    "plt.title(\"Confusion Matrix\")\n",
    "plt.colorbar()\n",
    "tick_marks = np.arange(len(classes))\n",
    "plt.xticks(tick_marks, classes)\n",
    "plt.yticks(tick_marks, classes)\n",
    "plt.xticks(rotation='vertical')\n",
    "\n",
    "plt.xlabel('Vorhergesagte Klasse')\n",
    "plt.ylabel('Tatsächliche Klasse')\n",
    "plt.show()"
   ],
   "metadata": {
    "collapsed": false,
    "ExecuteTime": {
     "start_time": "2024-01-10T04:16:28.152936Z",
     "end_time": "2024-01-10T04:16:28.423434Z"
    }
   }
  },
  {
   "cell_type": "code",
   "execution_count": 9,
   "outputs": [
    {
     "name": "stdout",
     "output_type": "stream",
     "text": [
      "              precision    recall  f1-score   support\n",
      "\n",
      "           0       0.17      0.19      0.18      5036\n",
      "           1       0.16      0.17      0.17      5024\n",
      "           2       0.16      0.17      0.17      4926\n",
      "           3       0.16      0.15      0.15      4993\n",
      "           4       0.16      0.14      0.15      5012\n",
      "           5       0.16      0.16      0.16      5009\n",
      "\n",
      "    accuracy                           0.16     30000\n",
      "   macro avg       0.16      0.16      0.16     30000\n",
      "weighted avg       0.16      0.16      0.16     30000\n",
      "\n"
     ]
    }
   ],
   "source": [
    "classification_report_result = classification_report(y_test, y_pred)\n",
    "print(classification_report_result)"
   ],
   "metadata": {
    "collapsed": false,
    "ExecuteTime": {
     "start_time": "2024-01-10T04:16:28.424634Z",
     "end_time": "2024-01-10T04:16:28.524129Z"
    }
   }
  },
  {
   "cell_type": "code",
   "execution_count": 9,
   "outputs": [],
   "source": [],
   "metadata": {
    "collapsed": false,
    "ExecuteTime": {
     "start_time": "2024-01-10T04:16:28.520586Z",
     "end_time": "2024-01-10T04:16:28.530352Z"
    }
   }
  }
 ],
 "metadata": {
  "kernelspec": {
   "display_name": "Python 3",
   "language": "python",
   "name": "python3"
  },
  "language_info": {
   "codemirror_mode": {
    "name": "ipython",
    "version": 2
   },
   "file_extension": ".py",
   "mimetype": "text/x-python",
   "name": "python",
   "nbconvert_exporter": "python",
   "pygments_lexer": "ipython2",
   "version": "2.7.6"
  }
 },
 "nbformat": 4,
 "nbformat_minor": 0
}
