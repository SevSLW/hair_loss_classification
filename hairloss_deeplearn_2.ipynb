{
 "cells": [
  {
   "cell_type": "code",
   "execution_count": 1,
   "metadata": {
    "collapsed": true,
    "ExecuteTime": {
     "start_time": "2023-12-23T23:26:38.420094Z",
     "end_time": "2023-12-23T23:26:44.007870Z"
    }
   },
   "outputs": [
    {
     "name": "stderr",
     "output_type": "stream",
     "text": [
      "2023-12-23 23:26:38.587263: I tensorflow/core/platform/cpu_feature_guard.cc:193] This TensorFlow binary is optimized with oneAPI Deep Neural Network Library (oneDNN) to use the following CPU instructions in performance-critical operations:  AVX2 FMA\n",
      "To enable them in other operations, rebuild TensorFlow with the appropriate compiler flags.\n"
     ]
    }
   ],
   "source": [
    "from sklearn.preprocessing import StandardScaler\n",
    "from keras.models import Sequential\n",
    "from keras.layers import Dense, Dropout\n",
    "from keras.utils import to_categorical\n",
    "\n",
    "import pandas as pd\n",
    "import numpy as np\n",
    "import matplotlib.pyplot as plt\n",
    "import seaborn as sns\n",
    "from sklearn.metrics import confusion_matrix\n",
    "from sklearn.model_selection import train_test_split\n",
    "\n",
    "from sklearn.metrics import confusion_matrix\n",
    "from sklearn.metrics import accuracy_score, classification_report\n"
   ]
  },
  {
   "cell_type": "code",
   "execution_count": 2,
   "outputs": [],
   "source": [
    "data = pd.read_csv('hair_loss.csv')\n",
    "X = data.drop('hair_fall', axis=1)\n",
    "y = data.hair_fall\n",
    "X_train, X_test, y_train, y_test = train_test_split(X, y, test_size=0.3, random_state=42)"
   ],
   "metadata": {
    "collapsed": false,
    "ExecuteTime": {
     "start_time": "2023-12-23T23:26:44.011976Z",
     "end_time": "2023-12-23T23:26:44.116262Z"
    }
   }
  },
  {
   "cell_type": "code",
   "execution_count": 3,
   "outputs": [
    {
     "data": {
      "text/plain": "76513    2\n60406    1\n27322    4\n53699    1\n65412    4\n        ..\n6265     2\n54886    4\n76820    3\n860      3\n15795    0\nName: hair_fall, Length: 70000, dtype: int64"
     },
     "execution_count": 3,
     "metadata": {},
     "output_type": "execute_result"
    }
   ],
   "source": [
    "y_train"
   ],
   "metadata": {
    "collapsed": false,
    "ExecuteTime": {
     "start_time": "2023-12-23T23:26:44.123561Z",
     "end_time": "2023-12-23T23:26:44.129392Z"
    }
   }
  },
  {
   "cell_type": "code",
   "execution_count": 4,
   "outputs": [],
   "source": [
    "scaler = StandardScaler()\n",
    "X_train_scaled = scaler.fit_transform(X_train)\n",
    "X_test_scaled = scaler.transform(X_test)\n",
    "y_train_encoded = to_categorical(y_train, num_classes=6)\n",
    "y_test_encoded = to_categorical(y_test, num_classes=6)"
   ],
   "metadata": {
    "collapsed": false,
    "ExecuteTime": {
     "start_time": "2023-12-23T23:26:44.131885Z",
     "end_time": "2023-12-23T23:26:44.161598Z"
    }
   }
  },
  {
   "cell_type": "code",
   "execution_count": 5,
   "outputs": [
    {
     "data": {
      "text/plain": "array([[0., 0., 1., 0., 0., 0.],\n       [0., 1., 0., 0., 0., 0.],\n       [0., 0., 0., 0., 1., 0.],\n       ...,\n       [0., 0., 0., 1., 0., 0.],\n       [0., 0., 0., 1., 0., 0.],\n       [1., 0., 0., 0., 0., 0.]], dtype=float32)"
     },
     "execution_count": 5,
     "metadata": {},
     "output_type": "execute_result"
    }
   ],
   "source": [
    "y_train_encoded"
   ],
   "metadata": {
    "collapsed": false,
    "ExecuteTime": {
     "start_time": "2023-12-23T23:26:44.157806Z",
     "end_time": "2023-12-23T23:26:44.172758Z"
    }
   }
  },
  {
   "cell_type": "code",
   "execution_count": 6,
   "outputs": [
    {
     "name": "stderr",
     "output_type": "stream",
     "text": [
      "2023-12-23 23:26:44.169402: I tensorflow/core/platform/cpu_feature_guard.cc:193] This TensorFlow binary is optimized with oneAPI Deep Neural Network Library (oneDNN) to use the following CPU instructions in performance-critical operations:  AVX2 FMA\n",
      "To enable them in other operations, rebuild TensorFlow with the appropriate compiler flags.\n"
     ]
    }
   ],
   "source": [
    "model = Sequential()\n",
    "model.add(Dense(128, input_dim=10, activation='relu'))\n",
    "model.add(Dropout(0.5))\n",
    "model.add(Dense(64, activation='relu'))\n",
    "model.add(Dense(64, activation='relu'))\n",
    "model.add(Dense(32, activation='relu'))\n",
    "model.add(Dense(6, activation='softmax'))\n",
    "\n",
    "model.compile(loss='categorical_crossentropy', optimizer='adam', metrics=['accuracy'])"
   ],
   "metadata": {
    "collapsed": false,
    "ExecuteTime": {
     "start_time": "2023-12-23T23:26:44.167285Z",
     "end_time": "2023-12-23T23:26:44.299300Z"
    }
   }
  },
  {
   "cell_type": "code",
   "execution_count": 7,
   "outputs": [],
   "source": [
    "y_train_encoded = to_categorical(y_train)\n",
    "y_test_encoded = to_categorical(y_test)"
   ],
   "metadata": {
    "collapsed": false,
    "ExecuteTime": {
     "start_time": "2023-12-23T23:26:44.301668Z",
     "end_time": "2023-12-23T23:26:44.307322Z"
    }
   }
  },
  {
   "cell_type": "code",
   "execution_count": 16,
   "outputs": [
    {
     "name": "stdout",
     "output_type": "stream",
     "text": [
      "Epoch 1/100\n",
      "2188/2188 [==============================] - 5s 2ms/step - loss: 1.7919 - accuracy: 0.1657 - val_loss: 1.7919 - val_accuracy: 0.1667\n",
      "Epoch 2/100\n",
      "2188/2188 [==============================] - 4s 2ms/step - loss: 1.7918 - accuracy: 0.1676 - val_loss: 1.7919 - val_accuracy: 0.1642\n",
      "Epoch 3/100\n",
      "2188/2188 [==============================] - 4s 2ms/step - loss: 1.7918 - accuracy: 0.1683 - val_loss: 1.7919 - val_accuracy: 0.1670\n",
      "Epoch 4/100\n",
      "2188/2188 [==============================] - 4s 2ms/step - loss: 1.7919 - accuracy: 0.1680 - val_loss: 1.7919 - val_accuracy: 0.1670\n",
      "Epoch 5/100\n",
      "2188/2188 [==============================] - 4s 2ms/step - loss: 1.7918 - accuracy: 0.1680 - val_loss: 1.7919 - val_accuracy: 0.1642\n",
      "Epoch 6/100\n",
      "2188/2188 [==============================] - 4s 2ms/step - loss: 1.7918 - accuracy: 0.1686 - val_loss: 1.7918 - val_accuracy: 0.1670\n",
      "Epoch 7/100\n",
      "2188/2188 [==============================] - 4s 2ms/step - loss: 1.7918 - accuracy: 0.1688 - val_loss: 1.7919 - val_accuracy: 0.1679\n",
      "Epoch 8/100\n",
      "2188/2188 [==============================] - 4s 2ms/step - loss: 1.7918 - accuracy: 0.1695 - val_loss: 1.7918 - val_accuracy: 0.1671\n",
      "Epoch 9/100\n",
      "2188/2188 [==============================] - 4s 2ms/step - loss: 1.7918 - accuracy: 0.1667 - val_loss: 1.7918 - val_accuracy: 0.1664\n",
      "Epoch 10/100\n",
      "2188/2188 [==============================] - 4s 2ms/step - loss: 1.7918 - accuracy: 0.1660 - val_loss: 1.7920 - val_accuracy: 0.1670\n",
      "Epoch 11/100\n",
      "2188/2188 [==============================] - 4s 2ms/step - loss: 1.7919 - accuracy: 0.1668 - val_loss: 1.7918 - val_accuracy: 0.1642\n",
      "Epoch 12/100\n",
      "2188/2188 [==============================] - 4s 2ms/step - loss: 1.7918 - accuracy: 0.1687 - val_loss: 1.7920 - val_accuracy: 0.1642\n",
      "Epoch 13/100\n",
      "2188/2188 [==============================] - 4s 2ms/step - loss: 1.7918 - accuracy: 0.1672 - val_loss: 1.7919 - val_accuracy: 0.1679\n",
      "Epoch 14/100\n",
      "2188/2188 [==============================] - 4s 2ms/step - loss: 1.7918 - accuracy: 0.1656 - val_loss: 1.7920 - val_accuracy: 0.1642\n",
      "Epoch 15/100\n",
      "2188/2188 [==============================] - 4s 2ms/step - loss: 1.7918 - accuracy: 0.1692 - val_loss: 1.7920 - val_accuracy: 0.1670\n",
      "Epoch 16/100\n",
      "2188/2188 [==============================] - 4s 2ms/step - loss: 1.7919 - accuracy: 0.1658 - val_loss: 1.7919 - val_accuracy: 0.1670\n",
      "Epoch 17/100\n",
      "2188/2188 [==============================] - 4s 2ms/step - loss: 1.7918 - accuracy: 0.1673 - val_loss: 1.7919 - val_accuracy: 0.1642\n",
      "Epoch 18/100\n",
      "2188/2188 [==============================] - 4s 2ms/step - loss: 1.7918 - accuracy: 0.1688 - val_loss: 1.7919 - val_accuracy: 0.1642\n",
      "Epoch 19/100\n",
      "2188/2188 [==============================] - 4s 2ms/step - loss: 1.7918 - accuracy: 0.1673 - val_loss: 1.7919 - val_accuracy: 0.1642\n",
      "Epoch 20/100\n",
      "2188/2188 [==============================] - 4s 2ms/step - loss: 1.7918 - accuracy: 0.1684 - val_loss: 1.7919 - val_accuracy: 0.1670\n",
      "Epoch 21/100\n",
      "2188/2188 [==============================] - 4s 2ms/step - loss: 1.7918 - accuracy: 0.1687 - val_loss: 1.7918 - val_accuracy: 0.1642\n",
      "Epoch 22/100\n",
      "2188/2188 [==============================] - 4s 2ms/step - loss: 1.7918 - accuracy: 0.1686 - val_loss: 1.7920 - val_accuracy: 0.1664\n",
      "Epoch 23/100\n",
      "2188/2188 [==============================] - 4s 2ms/step - loss: 1.7918 - accuracy: 0.1656 - val_loss: 1.7919 - val_accuracy: 0.1642\n",
      "Epoch 24/100\n",
      "2188/2188 [==============================] - 4s 2ms/step - loss: 1.7918 - accuracy: 0.1671 - val_loss: 1.7919 - val_accuracy: 0.1670\n",
      "Epoch 25/100\n",
      "2188/2188 [==============================] - 4s 2ms/step - loss: 1.7918 - accuracy: 0.1666 - val_loss: 1.7918 - val_accuracy: 0.1670\n",
      "Epoch 26/100\n",
      "2188/2188 [==============================] - 4s 2ms/step - loss: 1.7918 - accuracy: 0.1671 - val_loss: 1.7919 - val_accuracy: 0.1670\n",
      "Epoch 27/100\n",
      "2188/2188 [==============================] - 4s 2ms/step - loss: 1.7918 - accuracy: 0.1677 - val_loss: 1.7920 - val_accuracy: 0.1670\n",
      "Epoch 28/100\n",
      "2188/2188 [==============================] - 4s 2ms/step - loss: 1.7918 - accuracy: 0.1669 - val_loss: 1.7918 - val_accuracy: 0.1670\n",
      "Epoch 29/100\n",
      "2188/2188 [==============================] - 4s 2ms/step - loss: 1.7918 - accuracy: 0.1677 - val_loss: 1.7918 - val_accuracy: 0.1670\n",
      "Epoch 30/100\n",
      "2188/2188 [==============================] - 4s 2ms/step - loss: 1.7919 - accuracy: 0.1671 - val_loss: 1.7918 - val_accuracy: 0.1664\n",
      "Epoch 31/100\n",
      "2188/2188 [==============================] - 4s 2ms/step - loss: 1.7919 - accuracy: 0.1658 - val_loss: 1.7919 - val_accuracy: 0.1670\n",
      "Epoch 32/100\n",
      "2188/2188 [==============================] - 5s 2ms/step - loss: 1.7918 - accuracy: 0.1688 - val_loss: 1.7919 - val_accuracy: 0.1679\n",
      "Epoch 33/100\n",
      "2188/2188 [==============================] - 4s 2ms/step - loss: 1.7918 - accuracy: 0.1676 - val_loss: 1.7920 - val_accuracy: 0.1679\n",
      "Epoch 34/100\n",
      "2188/2188 [==============================] - 4s 2ms/step - loss: 1.7919 - accuracy: 0.1658 - val_loss: 1.7918 - val_accuracy: 0.1679\n",
      "Epoch 35/100\n",
      "2188/2188 [==============================] - 4s 2ms/step - loss: 1.7918 - accuracy: 0.1686 - val_loss: 1.7919 - val_accuracy: 0.1642\n",
      "Epoch 36/100\n",
      "2188/2188 [==============================] - 4s 2ms/step - loss: 1.7919 - accuracy: 0.1689 - val_loss: 1.7918 - val_accuracy: 0.1675\n",
      "Epoch 37/100\n",
      "2188/2188 [==============================] - 4s 2ms/step - loss: 1.7918 - accuracy: 0.1683 - val_loss: 1.7919 - val_accuracy: 0.1642\n",
      "Epoch 38/100\n",
      "2188/2188 [==============================] - 4s 2ms/step - loss: 1.7918 - accuracy: 0.1680 - val_loss: 1.7919 - val_accuracy: 0.1670\n",
      "Epoch 39/100\n",
      "2188/2188 [==============================] - 4s 2ms/step - loss: 1.7918 - accuracy: 0.1671 - val_loss: 1.7920 - val_accuracy: 0.1670\n",
      "Epoch 40/100\n",
      "2188/2188 [==============================] - 4s 2ms/step - loss: 1.7919 - accuracy: 0.1655 - val_loss: 1.7920 - val_accuracy: 0.1642\n",
      "Epoch 41/100\n",
      "2188/2188 [==============================] - 4s 2ms/step - loss: 1.7918 - accuracy: 0.1670 - val_loss: 1.7919 - val_accuracy: 0.1642\n",
      "Epoch 42/100\n",
      "2188/2188 [==============================] - 4s 2ms/step - loss: 1.7918 - accuracy: 0.1666 - val_loss: 1.7920 - val_accuracy: 0.1642\n",
      "Epoch 43/100\n",
      "2188/2188 [==============================] - 4s 2ms/step - loss: 1.7918 - accuracy: 0.1676 - val_loss: 1.7919 - val_accuracy: 0.1670\n",
      "Epoch 44/100\n",
      "2188/2188 [==============================] - 4s 2ms/step - loss: 1.7918 - accuracy: 0.1685 - val_loss: 1.7920 - val_accuracy: 0.1642\n",
      "Epoch 45/100\n",
      "2188/2188 [==============================] - 4s 2ms/step - loss: 1.7919 - accuracy: 0.1680 - val_loss: 1.7918 - val_accuracy: 0.1642\n",
      "Epoch 46/100\n",
      "2188/2188 [==============================] - 4s 2ms/step - loss: 1.7918 - accuracy: 0.1660 - val_loss: 1.7920 - val_accuracy: 0.1679\n",
      "Epoch 47/100\n",
      "2188/2188 [==============================] - 4s 2ms/step - loss: 1.7918 - accuracy: 0.1690 - val_loss: 1.7919 - val_accuracy: 0.1670\n",
      "Epoch 48/100\n",
      "2188/2188 [==============================] - 4s 2ms/step - loss: 1.7918 - accuracy: 0.1675 - val_loss: 1.7920 - val_accuracy: 0.1670\n",
      "Epoch 49/100\n",
      "2188/2188 [==============================] - 5s 2ms/step - loss: 1.7918 - accuracy: 0.1677 - val_loss: 1.7918 - val_accuracy: 0.1670\n",
      "Epoch 50/100\n",
      "2188/2188 [==============================] - 4s 2ms/step - loss: 1.7918 - accuracy: 0.1692 - val_loss: 1.7920 - val_accuracy: 0.1670\n",
      "Epoch 51/100\n",
      "2188/2188 [==============================] - 4s 2ms/step - loss: 1.7918 - accuracy: 0.1681 - val_loss: 1.7920 - val_accuracy: 0.1670\n",
      "Epoch 52/100\n",
      "2188/2188 [==============================] - 5s 2ms/step - loss: 1.7919 - accuracy: 0.1675 - val_loss: 1.7918 - val_accuracy: 0.1670\n",
      "Epoch 53/100\n",
      "2188/2188 [==============================] - 4s 2ms/step - loss: 1.7919 - accuracy: 0.1672 - val_loss: 1.7919 - val_accuracy: 0.1670\n",
      "Epoch 54/100\n",
      "2188/2188 [==============================] - 4s 2ms/step - loss: 1.7918 - accuracy: 0.1683 - val_loss: 1.7919 - val_accuracy: 0.1642\n",
      "Epoch 55/100\n",
      "2188/2188 [==============================] - 4s 2ms/step - loss: 1.7918 - accuracy: 0.1687 - val_loss: 1.7920 - val_accuracy: 0.1670\n",
      "Epoch 56/100\n",
      "2188/2188 [==============================] - 4s 2ms/step - loss: 1.7918 - accuracy: 0.1689 - val_loss: 1.7918 - val_accuracy: 0.1642\n",
      "Epoch 57/100\n",
      "2188/2188 [==============================] - 4s 2ms/step - loss: 1.7918 - accuracy: 0.1676 - val_loss: 1.7918 - val_accuracy: 0.1670\n",
      "Epoch 58/100\n",
      "2188/2188 [==============================] - 4s 2ms/step - loss: 1.7918 - accuracy: 0.1686 - val_loss: 1.7919 - val_accuracy: 0.1642\n",
      "Epoch 59/100\n",
      "2188/2188 [==============================] - 5s 2ms/step - loss: 1.7918 - accuracy: 0.1668 - val_loss: 1.7918 - val_accuracy: 0.1670\n",
      "Epoch 60/100\n",
      "2188/2188 [==============================] - 7s 3ms/step - loss: 1.7918 - accuracy: 0.1671 - val_loss: 1.7920 - val_accuracy: 0.1670\n",
      "Epoch 61/100\n",
      "2188/2188 [==============================] - 4s 2ms/step - loss: 1.7919 - accuracy: 0.1658 - val_loss: 1.7919 - val_accuracy: 0.1670\n",
      "Epoch 62/100\n",
      "2188/2188 [==============================] - 5s 2ms/step - loss: 1.7918 - accuracy: 0.1668 - val_loss: 1.7920 - val_accuracy: 0.1642\n",
      "Epoch 63/100\n",
      "2188/2188 [==============================] - 5s 2ms/step - loss: 1.7918 - accuracy: 0.1675 - val_loss: 1.7920 - val_accuracy: 0.1670\n",
      "Epoch 64/100\n",
      "2188/2188 [==============================] - 4s 2ms/step - loss: 1.7918 - accuracy: 0.1700 - val_loss: 1.7918 - val_accuracy: 0.1679\n",
      "Epoch 65/100\n",
      "2188/2188 [==============================] - 5s 2ms/step - loss: 1.7918 - accuracy: 0.1663 - val_loss: 1.7919 - val_accuracy: 0.1670\n",
      "Epoch 66/100\n",
      "2188/2188 [==============================] - 5s 2ms/step - loss: 1.7919 - accuracy: 0.1664 - val_loss: 1.7919 - val_accuracy: 0.1670\n",
      "Epoch 67/100\n",
      "2188/2188 [==============================] - 5s 2ms/step - loss: 1.7918 - accuracy: 0.1693 - val_loss: 1.7919 - val_accuracy: 0.1670\n",
      "Epoch 68/100\n",
      "2188/2188 [==============================] - 5s 2ms/step - loss: 1.7919 - accuracy: 0.1677 - val_loss: 1.7920 - val_accuracy: 0.1642\n",
      "Epoch 69/100\n",
      "2188/2188 [==============================] - 6s 3ms/step - loss: 1.7918 - accuracy: 0.1675 - val_loss: 1.7919 - val_accuracy: 0.1642\n",
      "Epoch 70/100\n",
      "2188/2188 [==============================] - 6s 3ms/step - loss: 1.7918 - accuracy: 0.1679 - val_loss: 1.7919 - val_accuracy: 0.1670\n",
      "Epoch 71/100\n",
      "2188/2188 [==============================] - 5s 2ms/step - loss: 1.7918 - accuracy: 0.1686 - val_loss: 1.7920 - val_accuracy: 0.1679\n",
      "Epoch 72/100\n",
      "2188/2188 [==============================] - 4s 2ms/step - loss: 1.7918 - accuracy: 0.1674 - val_loss: 1.7920 - val_accuracy: 0.1642\n",
      "Epoch 73/100\n",
      "2188/2188 [==============================] - 5s 2ms/step - loss: 1.7918 - accuracy: 0.1688 - val_loss: 1.7918 - val_accuracy: 0.1679\n",
      "Epoch 74/100\n",
      "2188/2188 [==============================] - 4s 2ms/step - loss: 1.7918 - accuracy: 0.1696 - val_loss: 1.7920 - val_accuracy: 0.1642\n",
      "Epoch 75/100\n",
      "2188/2188 [==============================] - 4s 2ms/step - loss: 1.7918 - accuracy: 0.1696 - val_loss: 1.7919 - val_accuracy: 0.1670\n",
      "Epoch 76/100\n",
      "2188/2188 [==============================] - 4s 2ms/step - loss: 1.7918 - accuracy: 0.1684 - val_loss: 1.7918 - val_accuracy: 0.1670\n",
      "Epoch 77/100\n",
      "2188/2188 [==============================] - 4s 2ms/step - loss: 1.7918 - accuracy: 0.1675 - val_loss: 1.7919 - val_accuracy: 0.1670\n",
      "Epoch 78/100\n",
      "2188/2188 [==============================] - 4s 2ms/step - loss: 1.7918 - accuracy: 0.1674 - val_loss: 1.7920 - val_accuracy: 0.1664\n",
      "Epoch 79/100\n",
      "2188/2188 [==============================] - 4s 2ms/step - loss: 1.7918 - accuracy: 0.1662 - val_loss: 1.7918 - val_accuracy: 0.1679\n",
      "Epoch 80/100\n",
      "2188/2188 [==============================] - 4s 2ms/step - loss: 1.7918 - accuracy: 0.1692 - val_loss: 1.7919 - val_accuracy: 0.1670\n",
      "Epoch 81/100\n",
      "2188/2188 [==============================] - 4s 2ms/step - loss: 1.7918 - accuracy: 0.1670 - val_loss: 1.7919 - val_accuracy: 0.1679\n",
      "Epoch 82/100\n",
      "2188/2188 [==============================] - 4s 2ms/step - loss: 1.7919 - accuracy: 0.1691 - val_loss: 1.7918 - val_accuracy: 0.1670\n",
      "Epoch 83/100\n",
      "2188/2188 [==============================] - 4s 2ms/step - loss: 1.7918 - accuracy: 0.1681 - val_loss: 1.7922 - val_accuracy: 0.1675\n",
      "Epoch 84/100\n",
      "2188/2188 [==============================] - 4s 2ms/step - loss: 1.7919 - accuracy: 0.1674 - val_loss: 1.7918 - val_accuracy: 0.1671\n",
      "Epoch 85/100\n",
      "2188/2188 [==============================] - 4s 2ms/step - loss: 1.7918 - accuracy: 0.1672 - val_loss: 1.7920 - val_accuracy: 0.1670\n",
      "Epoch 86/100\n",
      "2188/2188 [==============================] - 4s 2ms/step - loss: 1.7918 - accuracy: 0.1680 - val_loss: 1.7919 - val_accuracy: 0.1642\n",
      "Epoch 87/100\n",
      "2188/2188 [==============================] - 4s 2ms/step - loss: 1.7918 - accuracy: 0.1698 - val_loss: 1.7918 - val_accuracy: 0.1642\n",
      "Epoch 88/100\n",
      "2188/2188 [==============================] - 4s 2ms/step - loss: 1.7918 - accuracy: 0.1667 - val_loss: 1.7919 - val_accuracy: 0.1642\n",
      "Epoch 89/100\n",
      "2188/2188 [==============================] - 4s 2ms/step - loss: 1.7918 - accuracy: 0.1677 - val_loss: 1.7918 - val_accuracy: 0.1679\n",
      "Epoch 90/100\n",
      "2188/2188 [==============================] - 4s 2ms/step - loss: 1.7918 - accuracy: 0.1682 - val_loss: 1.7920 - val_accuracy: 0.1642\n",
      "Epoch 91/100\n",
      "2188/2188 [==============================] - 4s 2ms/step - loss: 1.7918 - accuracy: 0.1666 - val_loss: 1.7919 - val_accuracy: 0.1642\n",
      "Epoch 92/100\n",
      "2188/2188 [==============================] - 4s 2ms/step - loss: 1.7918 - accuracy: 0.1681 - val_loss: 1.7919 - val_accuracy: 0.1642\n",
      "Epoch 93/100\n",
      "2188/2188 [==============================] - 5s 2ms/step - loss: 1.7919 - accuracy: 0.1677 - val_loss: 1.7919 - val_accuracy: 0.1642\n",
      "Epoch 94/100\n",
      "2188/2188 [==============================] - 4s 2ms/step - loss: 1.7918 - accuracy: 0.1683 - val_loss: 1.7919 - val_accuracy: 0.1670\n",
      "Epoch 95/100\n",
      "2188/2188 [==============================] - 4s 2ms/step - loss: 1.7918 - accuracy: 0.1667 - val_loss: 1.7919 - val_accuracy: 0.1670\n",
      "Epoch 96/100\n",
      "2188/2188 [==============================] - 4s 2ms/step - loss: 1.7918 - accuracy: 0.1690 - val_loss: 1.7919 - val_accuracy: 0.1670\n",
      "Epoch 97/100\n",
      "2188/2188 [==============================] - 4s 2ms/step - loss: 1.7918 - accuracy: 0.1686 - val_loss: 1.7919 - val_accuracy: 0.1642\n",
      "Epoch 98/100\n",
      "2188/2188 [==============================] - 4s 2ms/step - loss: 1.7918 - accuracy: 0.1707 - val_loss: 1.7920 - val_accuracy: 0.1670\n",
      "Epoch 99/100\n",
      "2188/2188 [==============================] - 4s 2ms/step - loss: 1.7919 - accuracy: 0.1683 - val_loss: 1.7919 - val_accuracy: 0.1670\n",
      "Epoch 100/100\n",
      "2188/2188 [==============================] - 4s 2ms/step - loss: 1.7918 - accuracy: 0.1675 - val_loss: 1.7921 - val_accuracy: 0.1670\n"
     ]
    },
    {
     "data": {
      "text/plain": "<keras.callbacks.History at 0x152b414b0>"
     },
     "execution_count": 16,
     "metadata": {},
     "output_type": "execute_result"
    }
   ],
   "source": [
    "model.fit(X_train_scaled, y_train_encoded, epochs=100, batch_size=32, validation_data=(X_test_scaled, y_test_encoded))"
   ],
   "metadata": {
    "collapsed": false,
    "ExecuteTime": {
     "start_time": "2023-12-23T23:27:59.412341Z",
     "end_time": "2023-12-23T23:35:15.451368Z"
    }
   }
  },
  {
   "cell_type": "code",
   "execution_count": 9,
   "outputs": [
    {
     "name": "stdout",
     "output_type": "stream",
     "text": [
      "938/938 [==============================] - 1s 1ms/step - loss: 1.7921 - accuracy: 0.1668\n",
      "Accuracy: 16.68%\n"
     ]
    }
   ],
   "source": [
    "accuracy = model.evaluate(X_test_scaled, y_test_encoded)[1]\n",
    "print(f'Accuracy: {accuracy * 100:.2f}%')"
   ],
   "metadata": {
    "collapsed": false,
    "ExecuteTime": {
     "start_time": "2023-12-23T23:27:29.371218Z",
     "end_time": "2023-12-23T23:27:30.521667Z"
    }
   }
  },
  {
   "cell_type": "code",
   "execution_count": 10,
   "outputs": [
    {
     "name": "stdout",
     "output_type": "stream",
     "text": [
      "938/938 [==============================] - 1s 1ms/step\n"
     ]
    }
   ],
   "source": [
    "predictions = model.predict(X_test_scaled)\n",
    "predicted_classes = predictions.argmax(axis=1)"
   ],
   "metadata": {
    "collapsed": false,
    "ExecuteTime": {
     "start_time": "2023-12-23T23:27:30.524404Z",
     "end_time": "2023-12-23T23:27:31.975002Z"
    }
   }
  },
  {
   "cell_type": "code",
   "execution_count": 11,
   "outputs": [
    {
     "data": {
      "text/plain": "array([5, 5, 5, ..., 5, 5, 5])"
     },
     "execution_count": 11,
     "metadata": {},
     "output_type": "execute_result"
    }
   ],
   "source": [
    "predicted_classes"
   ],
   "metadata": {
    "collapsed": false,
    "ExecuteTime": {
     "start_time": "2023-12-23T23:27:31.973639Z",
     "end_time": "2023-12-23T23:27:31.980501Z"
    }
   }
  },
  {
   "cell_type": "code",
   "execution_count": 12,
   "outputs": [
    {
     "data": {
      "text/plain": "75721    0\n80184    1\n19864    3\n76699    1\n92991    3\n        ..\n42648    4\n86306    3\n45466    1\n63724    3\n34122    3\nName: hair_fall, Length: 30000, dtype: int64"
     },
     "execution_count": 12,
     "metadata": {},
     "output_type": "execute_result"
    }
   ],
   "source": [
    "y_test"
   ],
   "metadata": {
    "collapsed": false,
    "ExecuteTime": {
     "start_time": "2023-12-23T23:27:31.991192Z",
     "end_time": "2023-12-23T23:27:31.997551Z"
    }
   }
  },
  {
   "cell_type": "code",
   "execution_count": 13,
   "outputs": [
    {
     "data": {
      "text/plain": "array([[   0,    0,    5,    0,   17, 5014],\n       [   0,    0,    3,    0,   20, 5001],\n       [   0,    1,    3,    0,   12, 4910],\n       [   0,    0,    4,    0,   12, 4977],\n       [   0,    0,    1,    0,   14, 4997],\n       [   0,    0,    7,    0,   15, 4987]])"
     },
     "execution_count": 13,
     "metadata": {},
     "output_type": "execute_result"
    }
   ],
   "source": [
    "cm = confusion_matrix(y_test, predicted_classes)\n",
    "cm"
   ],
   "metadata": {
    "collapsed": false,
    "ExecuteTime": {
     "start_time": "2023-12-23T23:27:31.998612Z",
     "end_time": "2023-12-23T23:27:32.013280Z"
    }
   }
  },
  {
   "cell_type": "code",
   "execution_count": 14,
   "outputs": [
    {
     "data": {
      "text/plain": "<Figure size 640x480 with 2 Axes>",
      "image/png": "[encoded data removed]"
     },
     "metadata": {},
     "output_type": "display_data"
    }
   ],
   "source": [
    "classes = np.unique(y_train)\n",
    "plt.imshow(cm, interpolation='nearest', cmap=plt.cm.Blues)\n",
    "plt.title(\"Confusion Matrix\")\n",
    "plt.colorbar()\n",
    "tick_marks = np.arange(len(classes))\n",
    "plt.xticks(tick_marks, classes)\n",
    "plt.yticks(tick_marks, classes)\n",
    "plt.xticks(rotation='vertical')\n",
    "\n",
    "plt.xlabel('Vorhergesagte Klasse')\n",
    "plt.ylabel('Tatsächliche Klasse')\n",
    "plt.show()"
   ],
   "metadata": {
    "collapsed": false,
    "ExecuteTime": {
     "start_time": "2023-12-23T23:27:32.014336Z",
     "end_time": "2023-12-23T23:27:32.249534Z"
    }
   }
  },
  {
   "cell_type": "code",
   "execution_count": 15,
   "outputs": [
    {
     "name": "stdout",
     "output_type": "stream",
     "text": [
      "              precision    recall  f1-score   support\n",
      "\n",
      "           0       0.00      0.00      0.00      5036\n",
      "           1       0.00      0.00      0.00      5024\n",
      "           2       0.13      0.00      0.00      4926\n",
      "           3       0.00      0.00      0.00      4993\n",
      "           4       0.16      0.00      0.01      5012\n",
      "           5       0.17      1.00      0.29      5009\n",
      "\n",
      "    accuracy                           0.17     30000\n",
      "   macro avg       0.08      0.17      0.05     30000\n",
      "weighted avg       0.08      0.17      0.05     30000\n",
      "\n"
     ]
    },
    {
     "name": "stderr",
     "output_type": "stream",
     "text": [
      "/Users/slw/opt/anaconda3/envs/homl3/lib/python3.10/site-packages/sklearn/metrics/_classification.py:1334: UndefinedMetricWarning: Precision and F-score are ill-defined and being set to 0.0 in labels with no predicted samples. Use `zero_division` parameter to control this behavior.\n",
      "  _warn_prf(average, modifier, msg_start, len(result))\n",
      "/Users/slw/opt/anaconda3/envs/homl3/lib/python3.10/site-packages/sklearn/metrics/_classification.py:1334: UndefinedMetricWarning: Precision and F-score are ill-defined and being set to 0.0 in labels with no predicted samples. Use `zero_division` parameter to control this behavior.\n",
      "  _warn_prf(average, modifier, msg_start, len(result))\n",
      "/Users/slw/opt/anaconda3/envs/homl3/lib/python3.10/site-packages/sklearn/metrics/_classification.py:1334: UndefinedMetricWarning: Precision and F-score are ill-defined and being set to 0.0 in labels with no predicted samples. Use `zero_division` parameter to control this behavior.\n",
      "  _warn_prf(average, modifier, msg_start, len(result))\n"
     ]
    }
   ],
   "source": [
    "classification_report_result = classification_report(y_test, predicted_classes)\n",
    "print(classification_report_result)"
   ],
   "metadata": {
    "collapsed": false,
    "ExecuteTime": {
     "start_time": "2023-12-23T23:27:32.250806Z",
     "end_time": "2023-12-23T23:27:32.332852Z"
    }
   }
  },
  {
   "cell_type": "code",
   "execution_count": 15,
   "outputs": [],
   "source": [],
   "metadata": {
    "collapsed": false,
    "ExecuteTime": {
     "start_time": "2023-12-23T23:27:32.321528Z",
     "end_time": "2023-12-23T23:27:32.332984Z"
    }
   }
  }
 ],
 "metadata": {
  "kernelspec": {
   "display_name": "Python 3",
   "language": "python",
   "name": "python3"
  },
  "language_info": {
   "codemirror_mode": {
    "name": "ipython",
    "version": 2
   },
   "file_extension": ".py",
   "mimetype": "text/x-python",
   "name": "python",
   "nbconvert_exporter": "python",
   "pygments_lexer": "ipython2",
   "version": "2.7.6"
  }
 },
 "nbformat": 4,
 "nbformat_minor": 0
}
