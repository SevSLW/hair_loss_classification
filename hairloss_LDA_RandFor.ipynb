{
 "cells": [
  {
   "cell_type": "code",
   "execution_count": 1,
   "metadata": {
    "collapsed": true,
    "ExecuteTime": {
     "start_time": "2024-01-10T04:18:06.185967Z",
     "end_time": "2024-01-10T04:18:06.802437Z"
    }
   },
   "outputs": [],
   "source": [
    "import pandas as pd\n",
    "import numpy as np\n",
    "import matplotlib.pyplot as plt\n",
    "import seaborn as sns\n",
    "from sklearn import metrics\n",
    "from sklearn.metrics import confusion_matrix\n",
    "from sklearn.model_selection import train_test_split\n",
    "from sklearn.preprocessing import StandardScaler\n",
    "from sklearn.decomposition import PCA\n",
    "from sklearn.metrics import accuracy_score, classification_report\n",
    "from sklearn.model_selection import GridSearchCV\n",
    "from sklearn.discriminant_analysis import LinearDiscriminantAnalysis"
   ]
  },
  {
   "cell_type": "code",
   "execution_count": 3,
   "outputs": [],
   "source": [
    "data = pd.read_csv('hair_loss.csv')\n",
    "lda = LinearDiscriminantAnalysis()\n",
    "X = data.drop('hair_fall', axis=1)\n",
    "y = data.hair_fall\n",
    "X_lda = lda.fit_transform(X ,y)\n",
    "X_train, X_test, y_train, y_test = train_test_split(X_lda, y, test_size=0.3, random_state=42)"
   ],
   "metadata": {
    "collapsed": false,
    "ExecuteTime": {
     "start_time": "2024-01-10T04:18:38.229699Z",
     "end_time": "2024-01-10T04:18:38.550305Z"
    }
   }
  },
  {
   "cell_type": "code",
   "execution_count": 6,
   "outputs": [
    {
     "name": "stdout",
     "output_type": "stream",
     "text": [
      "[[ 0.0747465  -0.4585721  -0.18990074  1.74525724  0.04079187]\n",
      " [-0.04948061 -2.83669469  1.5417529   0.15337293  0.71382374]\n",
      " [ 0.32683076 -1.91987293 -0.07308999  0.18658163 -0.10023036]\n",
      " ...\n",
      " [-0.67094536 -1.96364576  0.33653341 -1.05989869 -0.48764126]\n",
      " [-0.10491235 -1.20586812 -0.13562202  0.55687562  1.00579833]\n",
      " [ 1.32469498 -0.77516504  0.55724545  0.04086917 -0.59839391]]\n"
     ]
    }
   ],
   "source": [
    "print(X_lda)"
   ],
   "metadata": {
    "collapsed": false,
    "ExecuteTime": {
     "start_time": "2024-01-10T04:18:58.834375Z",
     "end_time": "2024-01-10T04:18:58.850165Z"
    }
   }
  },
  {
   "cell_type": "code",
   "execution_count": 7,
   "outputs": [],
   "source": [
    "scaler = StandardScaler()\n",
    "X_train = scaler.fit_transform(X_train)\n",
    "X_test = scaler.fit_transform(X_test)"
   ],
   "metadata": {
    "collapsed": false,
    "ExecuteTime": {
     "start_time": "2024-01-10T04:19:15.146714Z",
     "end_time": "2024-01-10T04:19:15.181272Z"
    }
   }
  },
  {
   "cell_type": "code",
   "execution_count": 8,
   "outputs": [
    {
     "name": "stdout",
     "output_type": "stream",
     "text": [
      "Accuracy: 0.17\n"
     ]
    }
   ],
   "source": [
    "\n",
    "from sklearn.ensemble import RandomForestClassifier\n",
    "\n",
    "rf_classifier = RandomForestClassifier(n_estimators=100, random_state=42)\n",
    "rf_classifier.fit(X_train, y_train)\n",
    "\n",
    "# Vorhersagen für das Testset\n",
    "y_pred = rf_classifier.predict(X_test)\n",
    "\n",
    "# Evaluierung der Genauigkeit\n",
    "accuracy = accuracy_score(y_test, y_pred)\n",
    "print(f\"Accuracy: {accuracy:.2f}\")"
   ],
   "metadata": {
    "collapsed": false,
    "ExecuteTime": {
     "start_time": "2024-01-10T04:19:17.518026Z",
     "end_time": "2024-01-10T04:20:01.796109Z"
    }
   }
  },
  {
   "cell_type": "code",
   "execution_count": 9,
   "outputs": [
    {
     "data": {
      "text/plain": "array([[917, 833, 886, 789, 785, 826],\n       [916, 875, 855, 799, 783, 796],\n       [839, 866, 897, 809, 750, 765],\n       [863, 846, 920, 774, 713, 877],\n       [925, 860, 877, 777, 709, 864],\n       [870, 846, 889, 823, 756, 825]])"
     },
     "execution_count": 9,
     "metadata": {},
     "output_type": "execute_result"
    }
   ],
   "source": [
    "cm = confusion_matrix(y_test, y_pred)\n",
    "cm"
   ],
   "metadata": {
    "collapsed": false,
    "ExecuteTime": {
     "start_time": "2024-01-10T04:20:01.799579Z",
     "end_time": "2024-01-10T04:20:01.810486Z"
    }
   }
  },
  {
   "cell_type": "code",
   "execution_count": 10,
   "outputs": [
    {
     "data": {
      "text/plain": "<Figure size 640x480 with 2 Axes>",
      "image/png": "[encoded data removed]"
     },
     "metadata": {},
     "output_type": "display_data"
    }
   ],
   "source": [
    "classes = np.unique(y_train)\n",
    "plt.imshow(cm, interpolation='nearest', cmap=plt.cm.Blues)\n",
    "plt.title(\"Confusion Matrix\")\n",
    "plt.colorbar()\n",
    "tick_marks = np.arange(len(classes))\n",
    "plt.xticks(tick_marks, classes)\n",
    "plt.yticks(tick_marks, classes)\n",
    "plt.xticks(rotation='vertical')\n",
    "\n",
    "plt.xlabel('Vorhergesagte Klasse')\n",
    "plt.ylabel('Tatsächliche Klasse')\n",
    "plt.show()"
   ],
   "metadata": {
    "collapsed": false,
    "ExecuteTime": {
     "start_time": "2024-01-10T04:20:01.813305Z",
     "end_time": "2024-01-10T04:20:02.094142Z"
    }
   }
  },
  {
   "cell_type": "code",
   "execution_count": 11,
   "outputs": [
    {
     "name": "stdout",
     "output_type": "stream",
     "text": [
      "              precision    recall  f1-score   support\n",
      "\n",
      "           0       0.17      0.18      0.18      5036\n",
      "           1       0.17      0.17      0.17      5024\n",
      "           2       0.17      0.18      0.18      4926\n",
      "           3       0.16      0.16      0.16      4993\n",
      "           4       0.16      0.14      0.15      5012\n",
      "           5       0.17      0.16      0.17      5009\n",
      "\n",
      "    accuracy                           0.17     30000\n",
      "   macro avg       0.17      0.17      0.17     30000\n",
      "weighted avg       0.17      0.17      0.17     30000\n",
      "\n"
     ]
    }
   ],
   "source": [
    "classification_report_result = classification_report(y_test, y_pred)\n",
    "print(classification_report_result)"
   ],
   "metadata": {
    "collapsed": false,
    "ExecuteTime": {
     "start_time": "2024-01-10T04:20:02.097117Z",
     "end_time": "2024-01-10T04:20:02.172367Z"
    }
   }
  },
  {
   "cell_type": "code",
   "execution_count": null,
   "outputs": [],
   "source": [],
   "metadata": {
    "collapsed": false
   }
  }
 ],
 "metadata": {
  "kernelspec": {
   "display_name": "Python 3",
   "language": "python",
   "name": "python3"
  },
  "language_info": {
   "codemirror_mode": {
    "name": "ipython",
    "version": 2
   },
   "file_extension": ".py",
   "mimetype": "text/x-python",
   "name": "python",
   "nbconvert_exporter": "python",
   "pygments_lexer": "ipython2",
   "version": "2.7.6"
  }
 },
 "nbformat": 4,
 "nbformat_minor": 0
}
