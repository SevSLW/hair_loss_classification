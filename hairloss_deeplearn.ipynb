{
 "cells": [
  {
   "cell_type": "code",
   "execution_count": 1,
   "metadata": {
    "collapsed": true,
    "ExecuteTime": {
     "start_time": "2024-01-10T05:44:13.923213Z",
     "end_time": "2024-01-10T05:45:08.677827Z"
    }
   },
   "outputs": [
    {
     "name": "stderr",
     "output_type": "stream",
     "text": [
      "2024-01-10 05:44:14.232408: I tensorflow/core/platform/cpu_feature_guard.cc:193] This TensorFlow binary is optimized with oneAPI Deep Neural Network Library (oneDNN) to use the following CPU instructions in performance-critical operations:  SSE4.1 SSE4.2 AVX AVX2 FMA\n",
      "To enable them in other operations, rebuild TensorFlow with the appropriate compiler flags.\n"
     ]
    }
   ],
   "source": [
    "from sklearn.preprocessing import StandardScaler\n",
    "from keras.models import Sequential\n",
    "from keras.layers import Dense, Dropout, Input\n",
    "from keras.utils import to_categorical\n",
    "\n",
    "\n",
    "import pandas as pd\n",
    "import numpy as np\n",
    "import matplotlib.pyplot as plt\n",
    "import seaborn as sns\n",
    "from sklearn.metrics import confusion_matrix\n",
    "from sklearn.model_selection import train_test_split\n",
    "\n",
    "from sklearn.metrics import confusion_matrix\n",
    "from sklearn.metrics import accuracy_score, classification_report\n",
    "\n"
   ]
  },
  {
   "cell_type": "code",
   "execution_count": 2,
   "outputs": [],
   "source": [
    "data = pd.read_csv('hair_loss.csv')\n",
    "X = data.drop('hair_fall', axis=1)\n",
    "y = data.hair_fall\n",
    "X_train, X_test, y_train, y_test = train_test_split(X, y, test_size=0.3, random_state=42)"
   ],
   "metadata": {
    "collapsed": false,
    "ExecuteTime": {
     "start_time": "2024-01-10T05:44:20.972079Z",
     "end_time": "2024-01-10T05:45:08.680557Z"
    }
   }
  },
  {
   "cell_type": "code",
   "execution_count": 3,
   "outputs": [
    {
     "data": {
      "text/plain": "76513    2\n60406    1\n27322    4\n53699    1\n65412    4\n        ..\n6265     2\n54886    4\n76820    3\n860      3\n15795    0\nName: hair_fall, Length: 70000, dtype: int64"
     },
     "execution_count": 3,
     "metadata": {},
     "output_type": "execute_result"
    }
   ],
   "source": [
    "y_train"
   ],
   "metadata": {
    "collapsed": false,
    "ExecuteTime": {
     "start_time": "2024-01-10T05:44:21.150544Z",
     "end_time": "2024-01-10T05:45:08.680887Z"
    }
   }
  },
  {
   "cell_type": "code",
   "execution_count": 4,
   "outputs": [],
   "source": [
    "scaler = StandardScaler()\n",
    "X_train_scaled = scaler.fit_transform(X_train)\n",
    "X_test_scaled = scaler.transform(X_test)\n",
    "y_train_encoded = to_categorical(y_train)\n",
    "y_test_encoded = to_categorical(y_test)"
   ],
   "metadata": {
    "collapsed": false,
    "ExecuteTime": {
     "start_time": "2024-01-10T05:44:21.159069Z",
     "end_time": "2024-01-10T05:45:08.680967Z"
    }
   }
  },
  {
   "cell_type": "code",
   "execution_count": 5,
   "outputs": [
    {
     "data": {
      "text/plain": "array([[0., 0., 1., 0., 0., 0.],\n       [0., 1., 0., 0., 0., 0.],\n       [0., 0., 0., 0., 1., 0.],\n       ...,\n       [0., 0., 0., 1., 0., 0.],\n       [0., 0., 0., 1., 0., 0.],\n       [1., 0., 0., 0., 0., 0.]], dtype=float32)"
     },
     "execution_count": 5,
     "metadata": {},
     "output_type": "execute_result"
    }
   ],
   "source": [
    "y_train_encoded"
   ],
   "metadata": {
    "collapsed": false,
    "ExecuteTime": {
     "start_time": "2024-01-10T05:44:21.184373Z",
     "end_time": "2024-01-10T05:45:08.681112Z"
    }
   }
  },
  {
   "cell_type": "code",
   "execution_count": 6,
   "outputs": [
    {
     "name": "stderr",
     "output_type": "stream",
     "text": [
      "2024-01-10 05:44:21.271983: I tensorflow/core/platform/cpu_feature_guard.cc:193] This TensorFlow binary is optimized with oneAPI Deep Neural Network Library (oneDNN) to use the following CPU instructions in performance-critical operations:  SSE4.1 SSE4.2 AVX AVX2 FMA\n",
      "To enable them in other operations, rebuild TensorFlow with the appropriate compiler flags.\n"
     ]
    }
   ],
   "source": [
    "model = Sequential()\n",
    "model.add(Input(shape=(10,)))\n",
    "model.add(Dense(64, activation='relu', name='l1'))\n",
    "# model.add(Dense(64, activation='relu'))\n",
    "model.add(Dropout(0.5))\n",
    "model.add(Dense(32, activation='relu', name='l2'))\n",
    "model.add(Dense(6, activation='softmax', name='l3'))\n",
    "model.compile(loss='categorical_crossentropy', optimizer='adam', metrics=['accuracy'])"
   ],
   "metadata": {
    "collapsed": false,
    "ExecuteTime": {
     "start_time": "2024-01-10T05:44:21.194498Z",
     "end_time": "2024-01-10T05:45:08.682050Z"
    }
   }
  },
  {
   "cell_type": "code",
   "execution_count": 7,
   "outputs": [
    {
     "name": "stdout",
     "output_type": "stream",
     "text": [
      "(70000, 10)\n",
      "(30000, 10)\n",
      "(70000, 6)\n",
      "(30000, 6)\n"
     ]
    }
   ],
   "source": [
    "print(X_train_scaled.shape)\n",
    "print(X_test_scaled.shape)\n",
    "print(y_train_encoded.shape)\n",
    "print(y_test_encoded.shape)"
   ],
   "metadata": {
    "collapsed": false,
    "ExecuteTime": {
     "start_time": "2024-01-10T05:44:21.485546Z",
     "end_time": "2024-01-10T05:45:08.682240Z"
    }
   }
  },
  {
   "cell_type": "code",
   "execution_count": 8,
   "outputs": [
    {
     "name": "stdout",
     "output_type": "stream",
     "text": [
      "Model: \"sequential\"\n",
      "_________________________________________________________________\n",
      " Layer (type)                Output Shape              Param #   \n",
      "=================================================================\n",
      " l1 (Dense)                  (None, 64)                704       \n",
      "                                                                 \n",
      " dropout (Dropout)           (None, 64)                0         \n",
      "                                                                 \n",
      " l2 (Dense)                  (None, 32)                2080      \n",
      "                                                                 \n",
      " l3 (Dense)                  (None, 6)                 198       \n",
      "                                                                 \n",
      "=================================================================\n",
      "Total params: 2,982\n",
      "Trainable params: 2,982\n",
      "Non-trainable params: 0\n",
      "_________________________________________________________________\n"
     ]
    }
   ],
   "source": [
    "yu = model(X_train_scaled)\n",
    "model.summary()"
   ],
   "metadata": {
    "collapsed": false,
    "ExecuteTime": {
     "start_time": "2024-01-10T05:44:21.493154Z",
     "end_time": "2024-01-10T05:45:08.683324Z"
    }
   }
  },
  {
   "cell_type": "code",
   "execution_count": 9,
   "outputs": [
    {
     "data": {
      "text/plain": "[<tf.Variable 'l3/kernel:0' shape=(32, 6) dtype=float32, numpy=\n array([[ 8.94205868e-02, -3.37014854e-01,  1.65721178e-02,\n          3.55376750e-01,  7.80914426e-02, -1.96970701e-02],\n        [ 3.87997419e-01,  1.18554264e-01, -3.29934895e-01,\n         -3.40978503e-01,  2.79125571e-02, -1.12632215e-01],\n        [ 1.31363899e-01, -4.70985770e-02, -1.24427944e-01,\n          2.76441246e-01, -3.30845535e-01,  2.14649737e-02],\n        [ 9.42889750e-02, -1.34437770e-01,  2.96493083e-01,\n         -9.50753093e-02,  3.10540646e-01,  2.87072629e-01],\n        [-3.50563794e-01, -2.11360231e-01,  3.22897464e-01,\n          2.72103548e-02,  3.04912895e-01, -2.68878937e-01],\n        [-3.48184258e-01,  6.80317879e-02,  1.46236449e-01,\n         -3.90085995e-01,  3.94030899e-01, -6.11834526e-02],\n        [ 3.41412723e-02,  4.49483097e-02, -3.37923020e-01,\n          1.09320372e-01, -2.23160699e-01, -3.62166464e-01],\n        [ 2.97054648e-02,  1.50248319e-01, -2.65018195e-01,\n          1.45209759e-01, -3.78978163e-01,  2.04925835e-02],\n        [ 1.78787261e-01,  2.85578966e-02, -6.99328780e-02,\n         -9.10201371e-02,  2.83539861e-01,  3.58236700e-01],\n        [-7.78364837e-02,  2.06026226e-01, -1.36725038e-01,\n          1.65379852e-01, -3.12297344e-01,  6.69544339e-02],\n        [ 3.58169049e-01,  3.85419995e-01, -2.60145903e-01,\n         -3.87121290e-01, -9.05115902e-02,  3.54909509e-01],\n        [-1.32529944e-01, -1.57067910e-01,  7.77682960e-02,\n          9.06074643e-02,  3.55716020e-01,  1.99760228e-01],\n        [-3.43521923e-01, -1.65048823e-01,  2.60662824e-01,\n         -2.42328346e-02, -3.52690518e-02, -1.60708606e-01],\n        [-1.97683483e-01,  2.34372318e-02, -1.32017314e-01,\n          3.05375427e-01, -3.85336220e-01,  1.32435769e-01],\n        [ 1.32835835e-01, -3.86625528e-04, -1.42916054e-01,\n          7.04699457e-02, -3.53911459e-01,  2.98557669e-01],\n        [-3.82003814e-01,  6.73425198e-03, -2.07229570e-01,\n         -6.15918934e-02, -2.64470994e-01, -2.80017376e-01],\n        [ 3.71183485e-01,  3.16092640e-01,  3.11893195e-01,\n         -1.99695155e-01, -1.14180803e-01,  1.39001310e-02],\n        [ 2.30623573e-01, -3.22772324e-01,  9.32160616e-02,\n          2.04218775e-01, -2.22766489e-01,  9.94740725e-02],\n        [ 2.91140079e-02,  3.28762263e-01, -3.83825064e-01,\n          3.72508466e-02, -1.50410205e-01, -2.47055411e-01],\n        [-3.66960853e-01,  2.02852935e-01,  3.58779281e-01,\n          2.56196886e-01,  2.91279823e-01, -2.30336189e-03],\n        [-2.21843123e-02, -2.14712068e-01,  9.35441256e-03,\n         -1.84593454e-01,  3.14376742e-01, -3.36819321e-01],\n        [-1.07715905e-01, -5.38994372e-02,  2.04525083e-01,\n          2.80169815e-01,  3.79683226e-01, -3.83795589e-01],\n        [ 2.24442214e-01,  3.18277568e-01,  2.72222370e-01,\n         -3.51601273e-01,  1.04881972e-01, -2.08106562e-01],\n        [-2.98739225e-01,  1.37948364e-01,  3.11520785e-01,\n         -2.10455969e-01,  2.23309427e-01, -1.93292677e-01],\n        [-1.36974096e-01, -1.49205893e-01,  1.26467854e-01,\n          3.17549139e-01, -1.81389987e-01,  6.42098784e-02],\n        [ 3.03224891e-01,  1.29062504e-01, -1.19641602e-01,\n          3.60196561e-01,  3.34898502e-01,  3.41812760e-01],\n        [-9.31088328e-02,  1.31076545e-01, -1.90576062e-01,\n          1.91414565e-01,  1.61478609e-01,  3.81800503e-01],\n        [-3.56698036e-03, -8.75644684e-02,  2.33935505e-01,\n          2.68566400e-01,  3.73055845e-01, -2.39318162e-01],\n        [-3.95803243e-01, -3.21669489e-01,  2.23525912e-01,\n         -3.31494570e-01, -3.48144293e-01, -4.45475876e-02],\n        [-3.86091948e-01, -1.11452073e-01,  1.26033574e-01,\n         -2.25515604e-01,  3.88762802e-01, -2.14941621e-01],\n        [ 3.44401896e-02,  1.13587648e-01,  2.31185585e-01,\n         -2.92303473e-01,  6.03526831e-03,  4.39141691e-02],\n        [ 3.89510840e-01,  1.37174278e-01,  3.77508789e-01,\n          1.68821126e-01,  2.72965401e-01, -2.35373929e-01]], dtype=float32)>,\n <tf.Variable 'l3/bias:0' shape=(6,) dtype=float32, numpy=array([0., 0., 0., 0., 0., 0.], dtype=float32)>]"
     },
     "execution_count": 9,
     "metadata": {},
     "output_type": "execute_result"
    }
   ],
   "source": [
    "model.layers[3].weights"
   ],
   "metadata": {
    "collapsed": false,
    "ExecuteTime": {
     "start_time": "2024-01-10T05:44:21.674351Z",
     "end_time": "2024-01-10T05:45:08.683864Z"
    }
   }
  },
  {
   "cell_type": "code",
   "execution_count": 10,
   "outputs": [
    {
     "name": "stdout",
     "output_type": "stream",
     "text": [
      "Epoch 1/200\n",
      "2188/2188 [==============================] - 6s 3ms/step - loss: 1.8038 - accuracy: 0.1657 - val_loss: 1.7922 - val_accuracy: 0.1685\n",
      "Epoch 2/200\n",
      "2188/2188 [==============================] - 10s 5ms/step - loss: 1.7927 - accuracy: 0.1669 - val_loss: 1.7919 - val_accuracy: 0.1706\n",
      "Epoch 3/200\n",
      "2188/2188 [==============================] - 6s 3ms/step - loss: 1.7921 - accuracy: 0.1666 - val_loss: 1.7920 - val_accuracy: 0.1697\n",
      "Epoch 4/200\n",
      "2188/2188 [==============================] - 6s 3ms/step - loss: 1.7921 - accuracy: 0.1681 - val_loss: 1.7921 - val_accuracy: 0.1673\n",
      "Epoch 5/200\n",
      "2188/2188 [==============================] - 6s 3ms/step - loss: 1.7919 - accuracy: 0.1694 - val_loss: 1.7919 - val_accuracy: 0.1643\n",
      "Epoch 6/200\n",
      "2188/2188 [==============================] - 6s 3ms/step - loss: 1.7919 - accuracy: 0.1687 - val_loss: 1.7919 - val_accuracy: 0.1635\n",
      "Epoch 7/200\n",
      "2188/2188 [==============================] - 5s 2ms/step - loss: 1.7917 - accuracy: 0.1690 - val_loss: 1.7921 - val_accuracy: 0.1660\n",
      "Epoch 8/200\n",
      "2188/2188 [==============================] - 13s 6ms/step - loss: 1.7919 - accuracy: 0.1702 - val_loss: 1.7921 - val_accuracy: 0.1654\n",
      "Epoch 9/200\n",
      "2188/2188 [==============================] - 10s 5ms/step - loss: 1.7917 - accuracy: 0.1703 - val_loss: 1.7922 - val_accuracy: 0.1647\n",
      "Epoch 10/200\n",
      "2188/2188 [==============================] - 11s 5ms/step - loss: 1.7918 - accuracy: 0.1700 - val_loss: 1.7921 - val_accuracy: 0.1674\n",
      "Epoch 11/200\n",
      "2188/2188 [==============================] - 10s 5ms/step - loss: 1.7916 - accuracy: 0.1701 - val_loss: 1.7921 - val_accuracy: 0.1638\n",
      "Epoch 12/200\n",
      "2188/2188 [==============================] - 11s 5ms/step - loss: 1.7918 - accuracy: 0.1690 - val_loss: 1.7918 - val_accuracy: 0.1671\n",
      "Epoch 13/200\n",
      "2188/2188 [==============================] - 11s 5ms/step - loss: 1.7915 - accuracy: 0.1699 - val_loss: 1.7921 - val_accuracy: 0.1662\n",
      "Epoch 14/200\n",
      "2188/2188 [==============================] - 11s 5ms/step - loss: 1.7915 - accuracy: 0.1715 - val_loss: 1.7920 - val_accuracy: 0.1688\n",
      "Epoch 15/200\n",
      "2188/2188 [==============================] - 12s 5ms/step - loss: 1.7915 - accuracy: 0.1716 - val_loss: 1.7919 - val_accuracy: 0.1682\n",
      "Epoch 16/200\n",
      "2188/2188 [==============================] - 11s 5ms/step - loss: 1.7916 - accuracy: 0.1705 - val_loss: 1.7920 - val_accuracy: 0.1662\n",
      "Epoch 17/200\n",
      "2188/2188 [==============================] - 9s 4ms/step - loss: 1.7913 - accuracy: 0.1699 - val_loss: 1.7919 - val_accuracy: 0.1677\n",
      "Epoch 18/200\n",
      "2188/2188 [==============================] - 10s 4ms/step - loss: 1.7915 - accuracy: 0.1709 - val_loss: 1.7919 - val_accuracy: 0.1677\n",
      "Epoch 19/200\n",
      "2188/2188 [==============================] - 11s 5ms/step - loss: 1.7913 - accuracy: 0.1723 - val_loss: 1.7921 - val_accuracy: 0.1670\n",
      "Epoch 20/200\n",
      "2188/2188 [==============================] - 11s 5ms/step - loss: 1.7913 - accuracy: 0.1715 - val_loss: 1.7920 - val_accuracy: 0.1655\n",
      "Epoch 21/200\n",
      "2188/2188 [==============================] - 11s 5ms/step - loss: 1.7913 - accuracy: 0.1715 - val_loss: 1.7919 - val_accuracy: 0.1697\n",
      "Epoch 22/200\n",
      "2188/2188 [==============================] - 11s 5ms/step - loss: 1.7912 - accuracy: 0.1719 - val_loss: 1.7923 - val_accuracy: 0.1676\n",
      "Epoch 23/200\n",
      "2188/2188 [==============================] - 9s 4ms/step - loss: 1.7912 - accuracy: 0.1715 - val_loss: 1.7922 - val_accuracy: 0.1677\n",
      "Epoch 24/200\n",
      "2188/2188 [==============================] - 11s 5ms/step - loss: 1.7911 - accuracy: 0.1725 - val_loss: 1.7921 - val_accuracy: 0.1669\n",
      "Epoch 25/200\n",
      "2188/2188 [==============================] - 11s 5ms/step - loss: 1.7912 - accuracy: 0.1707 - val_loss: 1.7919 - val_accuracy: 0.1688\n",
      "Epoch 26/200\n",
      "2188/2188 [==============================] - 11s 5ms/step - loss: 1.7913 - accuracy: 0.1729 - val_loss: 1.7919 - val_accuracy: 0.1669\n",
      "Epoch 27/200\n",
      "2188/2188 [==============================] - 9s 4ms/step - loss: 1.7911 - accuracy: 0.1733 - val_loss: 1.7921 - val_accuracy: 0.1652\n",
      "Epoch 28/200\n",
      "2188/2188 [==============================] - 9s 4ms/step - loss: 1.7913 - accuracy: 0.1723 - val_loss: 1.7922 - val_accuracy: 0.1675\n",
      "Epoch 29/200\n",
      "2188/2188 [==============================] - 10s 5ms/step - loss: 1.7913 - accuracy: 0.1721 - val_loss: 1.7922 - val_accuracy: 0.1704\n",
      "Epoch 30/200\n",
      "2188/2188 [==============================] - 12s 5ms/step - loss: 1.7912 - accuracy: 0.1715 - val_loss: 1.7921 - val_accuracy: 0.1669\n",
      "Epoch 31/200\n",
      "2188/2188 [==============================] - 13s 6ms/step - loss: 1.7909 - accuracy: 0.1738 - val_loss: 1.7922 - val_accuracy: 0.1678\n",
      "Epoch 32/200\n",
      "2188/2188 [==============================] - 10s 5ms/step - loss: 1.7910 - accuracy: 0.1725 - val_loss: 1.7920 - val_accuracy: 0.1703\n",
      "Epoch 33/200\n",
      "2188/2188 [==============================] - 11s 5ms/step - loss: 1.7909 - accuracy: 0.1736 - val_loss: 1.7922 - val_accuracy: 0.1640\n",
      "Epoch 34/200\n",
      "2188/2188 [==============================] - 10s 5ms/step - loss: 1.7907 - accuracy: 0.1761 - val_loss: 1.7922 - val_accuracy: 0.1673\n",
      "Epoch 35/200\n",
      "2188/2188 [==============================] - 13s 6ms/step - loss: 1.7910 - accuracy: 0.1714 - val_loss: 1.7922 - val_accuracy: 0.1652\n",
      "Epoch 36/200\n",
      "2188/2188 [==============================] - 11s 5ms/step - loss: 1.7910 - accuracy: 0.1734 - val_loss: 1.7923 - val_accuracy: 0.1671\n",
      "Epoch 37/200\n",
      "2188/2188 [==============================] - 9s 4ms/step - loss: 1.7907 - accuracy: 0.1734 - val_loss: 1.7923 - val_accuracy: 0.1627\n",
      "Epoch 38/200\n",
      "2188/2188 [==============================] - 8s 3ms/step - loss: 1.7908 - accuracy: 0.1737 - val_loss: 1.7925 - val_accuracy: 0.1675\n",
      "Epoch 39/200\n",
      "2188/2188 [==============================] - 9s 4ms/step - loss: 1.7909 - accuracy: 0.1745 - val_loss: 1.7922 - val_accuracy: 0.1668\n",
      "Epoch 40/200\n",
      "2188/2188 [==============================] - 10s 4ms/step - loss: 1.7907 - accuracy: 0.1739 - val_loss: 1.7925 - val_accuracy: 0.1676\n",
      "Epoch 41/200\n",
      "2188/2188 [==============================] - 12s 5ms/step - loss: 1.7911 - accuracy: 0.1740 - val_loss: 1.7923 - val_accuracy: 0.1667\n",
      "Epoch 42/200\n",
      "2188/2188 [==============================] - 11s 5ms/step - loss: 1.7907 - accuracy: 0.1730 - val_loss: 1.7923 - val_accuracy: 0.1660\n",
      "Epoch 43/200\n",
      "2188/2188 [==============================] - 11s 5ms/step - loss: 1.7904 - accuracy: 0.1760 - val_loss: 1.7927 - val_accuracy: 0.1656\n",
      "Epoch 44/200\n",
      "2188/2188 [==============================] - 15s 7ms/step - loss: 1.7906 - accuracy: 0.1751 - val_loss: 1.7922 - val_accuracy: 0.1661\n",
      "Epoch 45/200\n",
      "2188/2188 [==============================] - 10s 4ms/step - loss: 1.7903 - accuracy: 0.1758 - val_loss: 1.7930 - val_accuracy: 0.1645\n",
      "Epoch 46/200\n",
      "2188/2188 [==============================] - 12s 6ms/step - loss: 1.7905 - accuracy: 0.1771 - val_loss: 1.7926 - val_accuracy: 0.1653\n",
      "Epoch 47/200\n",
      "2188/2188 [==============================] - 10s 4ms/step - loss: 1.7908 - accuracy: 0.1765 - val_loss: 1.7926 - val_accuracy: 0.1641\n",
      "Epoch 48/200\n",
      "2188/2188 [==============================] - 12s 6ms/step - loss: 1.7907 - accuracy: 0.1753 - val_loss: 1.7926 - val_accuracy: 0.1647\n",
      "Epoch 49/200\n",
      "2188/2188 [==============================] - 12s 5ms/step - loss: 1.7905 - accuracy: 0.1751 - val_loss: 1.7925 - val_accuracy: 0.1651\n",
      "Epoch 50/200\n",
      "2188/2188 [==============================] - 11s 5ms/step - loss: 1.7905 - accuracy: 0.1743 - val_loss: 1.7926 - val_accuracy: 0.1654\n",
      "Epoch 51/200\n",
      "2188/2188 [==============================] - 10s 5ms/step - loss: 1.7906 - accuracy: 0.1762 - val_loss: 1.7925 - val_accuracy: 0.1675\n",
      "Epoch 52/200\n",
      "2188/2188 [==============================] - 13s 6ms/step - loss: 1.7907 - accuracy: 0.1737 - val_loss: 1.7923 - val_accuracy: 0.1645\n",
      "Epoch 53/200\n",
      "2188/2188 [==============================] - 11s 5ms/step - loss: 1.7900 - accuracy: 0.1762 - val_loss: 1.7925 - val_accuracy: 0.1649\n",
      "Epoch 54/200\n",
      "2188/2188 [==============================] - 12s 5ms/step - loss: 1.7902 - accuracy: 0.1747 - val_loss: 1.7924 - val_accuracy: 0.1660\n",
      "Epoch 55/200\n",
      "2188/2188 [==============================] - 11s 5ms/step - loss: 1.7901 - accuracy: 0.1781 - val_loss: 1.7928 - val_accuracy: 0.1646\n",
      "Epoch 56/200\n",
      "2188/2188 [==============================] - 9s 4ms/step - loss: 1.7900 - accuracy: 0.1767 - val_loss: 1.7926 - val_accuracy: 0.1653\n",
      "Epoch 57/200\n",
      "2188/2188 [==============================] - 11s 5ms/step - loss: 1.7905 - accuracy: 0.1774 - val_loss: 1.7925 - val_accuracy: 0.1673\n",
      "Epoch 58/200\n",
      "2188/2188 [==============================] - 10s 5ms/step - loss: 1.7902 - accuracy: 0.1783 - val_loss: 1.7929 - val_accuracy: 0.1656\n",
      "Epoch 59/200\n",
      "2188/2188 [==============================] - 10s 4ms/step - loss: 1.7906 - accuracy: 0.1747 - val_loss: 1.7924 - val_accuracy: 0.1653\n",
      "Epoch 60/200\n",
      "2188/2188 [==============================] - 10s 5ms/step - loss: 1.7902 - accuracy: 0.1768 - val_loss: 1.7928 - val_accuracy: 0.1658\n",
      "Epoch 61/200\n",
      "2188/2188 [==============================] - 9s 4ms/step - loss: 1.7900 - accuracy: 0.1771 - val_loss: 1.7928 - val_accuracy: 0.1640\n",
      "Epoch 62/200\n",
      "2188/2188 [==============================] - 10s 4ms/step - loss: 1.7904 - accuracy: 0.1755 - val_loss: 1.7925 - val_accuracy: 0.1652\n",
      "Epoch 63/200\n",
      "2188/2188 [==============================] - 9s 4ms/step - loss: 1.7897 - accuracy: 0.1788 - val_loss: 1.7930 - val_accuracy: 0.1641\n",
      "Epoch 64/200\n",
      "2188/2188 [==============================] - 9s 4ms/step - loss: 1.7901 - accuracy: 0.1776 - val_loss: 1.7927 - val_accuracy: 0.1644\n",
      "Epoch 65/200\n",
      "2188/2188 [==============================] - 11s 5ms/step - loss: 1.7902 - accuracy: 0.1773 - val_loss: 1.7926 - val_accuracy: 0.1667\n",
      "Epoch 66/200\n",
      "2188/2188 [==============================] - 11s 5ms/step - loss: 1.7897 - accuracy: 0.1771 - val_loss: 1.7929 - val_accuracy: 0.1645\n",
      "Epoch 67/200\n",
      "2188/2188 [==============================] - 11s 5ms/step - loss: 1.7900 - accuracy: 0.1774 - val_loss: 1.7928 - val_accuracy: 0.1649\n",
      "Epoch 68/200\n",
      "2188/2188 [==============================] - 15s 7ms/step - loss: 1.7899 - accuracy: 0.1793 - val_loss: 1.7927 - val_accuracy: 0.1615\n",
      "Epoch 69/200\n",
      "2188/2188 [==============================] - 10s 4ms/step - loss: 1.7900 - accuracy: 0.1787 - val_loss: 1.7925 - val_accuracy: 0.1678\n",
      "Epoch 70/200\n",
      "2188/2188 [==============================] - 9s 4ms/step - loss: 1.7898 - accuracy: 0.1775 - val_loss: 1.7928 - val_accuracy: 0.1650\n",
      "Epoch 71/200\n",
      "2188/2188 [==============================] - 10s 5ms/step - loss: 1.7899 - accuracy: 0.1783 - val_loss: 1.7929 - val_accuracy: 0.1665\n",
      "Epoch 72/200\n",
      "2188/2188 [==============================] - 12s 6ms/step - loss: 1.7900 - accuracy: 0.1783 - val_loss: 1.7927 - val_accuracy: 0.1654\n",
      "Epoch 73/200\n",
      "2188/2188 [==============================] - 10s 4ms/step - loss: 1.7900 - accuracy: 0.1772 - val_loss: 1.7929 - val_accuracy: 0.1645\n",
      "Epoch 74/200\n",
      "2188/2188 [==============================] - 9s 4ms/step - loss: 1.7898 - accuracy: 0.1754 - val_loss: 1.7928 - val_accuracy: 0.1669\n",
      "Epoch 75/200\n",
      "2188/2188 [==============================] - 9s 4ms/step - loss: 1.7899 - accuracy: 0.1777 - val_loss: 1.7926 - val_accuracy: 0.1665\n",
      "Epoch 76/200\n",
      "2188/2188 [==============================] - 9s 4ms/step - loss: 1.7897 - accuracy: 0.1780 - val_loss: 1.7928 - val_accuracy: 0.1663\n",
      "Epoch 77/200\n",
      "2188/2188 [==============================] - 11s 5ms/step - loss: 1.7897 - accuracy: 0.1791 - val_loss: 1.7929 - val_accuracy: 0.1657\n",
      "Epoch 78/200\n",
      "2188/2188 [==============================] - 10s 4ms/step - loss: 1.7897 - accuracy: 0.1762 - val_loss: 1.7928 - val_accuracy: 0.1639\n",
      "Epoch 79/200\n",
      "2188/2188 [==============================] - 9s 4ms/step - loss: 1.7901 - accuracy: 0.1796 - val_loss: 1.7925 - val_accuracy: 0.1646\n",
      "Epoch 80/200\n",
      "2188/2188 [==============================] - 9s 4ms/step - loss: 1.7894 - accuracy: 0.1786 - val_loss: 1.7931 - val_accuracy: 0.1651\n",
      "Epoch 81/200\n",
      "2188/2188 [==============================] - 9s 4ms/step - loss: 1.7898 - accuracy: 0.1793 - val_loss: 1.7930 - val_accuracy: 0.1657\n",
      "Epoch 82/200\n",
      "2188/2188 [==============================] - 10s 4ms/step - loss: 1.7896 - accuracy: 0.1794 - val_loss: 1.7932 - val_accuracy: 0.1658\n",
      "Epoch 83/200\n",
      "2188/2188 [==============================] - 10s 4ms/step - loss: 1.7898 - accuracy: 0.1776 - val_loss: 1.7929 - val_accuracy: 0.1629\n",
      "Epoch 84/200\n",
      "2188/2188 [==============================] - 9s 4ms/step - loss: 1.7896 - accuracy: 0.1794 - val_loss: 1.7929 - val_accuracy: 0.1647\n",
      "Epoch 85/200\n",
      "2188/2188 [==============================] - 9s 4ms/step - loss: 1.7892 - accuracy: 0.1794 - val_loss: 1.7927 - val_accuracy: 0.1668\n",
      "Epoch 86/200\n",
      "2188/2188 [==============================] - 9s 4ms/step - loss: 1.7898 - accuracy: 0.1756 - val_loss: 1.7928 - val_accuracy: 0.1641\n",
      "Epoch 87/200\n",
      "2188/2188 [==============================] - 10s 4ms/step - loss: 1.7899 - accuracy: 0.1781 - val_loss: 1.7929 - val_accuracy: 0.1648\n",
      "Epoch 88/200\n",
      "2188/2188 [==============================] - 10s 4ms/step - loss: 1.7895 - accuracy: 0.1783 - val_loss: 1.7927 - val_accuracy: 0.1650\n",
      "Epoch 89/200\n",
      "2188/2188 [==============================] - 10s 4ms/step - loss: 1.7896 - accuracy: 0.1768 - val_loss: 1.7926 - val_accuracy: 0.1632\n",
      "Epoch 90/200\n",
      "2188/2188 [==============================] - 11s 5ms/step - loss: 1.7897 - accuracy: 0.1793 - val_loss: 1.7930 - val_accuracy: 0.1632\n",
      "Epoch 91/200\n",
      "2188/2188 [==============================] - 10s 4ms/step - loss: 1.7896 - accuracy: 0.1787 - val_loss: 1.7929 - val_accuracy: 0.1662\n",
      "Epoch 92/200\n",
      "2188/2188 [==============================] - 9s 4ms/step - loss: 1.7892 - accuracy: 0.1789 - val_loss: 1.7929 - val_accuracy: 0.1659\n",
      "Epoch 93/200\n",
      "2188/2188 [==============================] - 8s 4ms/step - loss: 1.7893 - accuracy: 0.1790 - val_loss: 1.7930 - val_accuracy: 0.1656\n",
      "Epoch 94/200\n",
      "2188/2188 [==============================] - 9s 4ms/step - loss: 1.7900 - accuracy: 0.1786 - val_loss: 1.7928 - val_accuracy: 0.1666\n",
      "Epoch 95/200\n",
      "2188/2188 [==============================] - 9s 4ms/step - loss: 1.7899 - accuracy: 0.1776 - val_loss: 1.7927 - val_accuracy: 0.1649\n",
      "Epoch 96/200\n",
      "2188/2188 [==============================] - 9s 4ms/step - loss: 1.7896 - accuracy: 0.1788 - val_loss: 1.7928 - val_accuracy: 0.1648\n",
      "Epoch 97/200\n",
      "2188/2188 [==============================] - 8s 4ms/step - loss: 1.7892 - accuracy: 0.1808 - val_loss: 1.7931 - val_accuracy: 0.1658\n",
      "Epoch 98/200\n",
      "2188/2188 [==============================] - 9s 4ms/step - loss: 1.7897 - accuracy: 0.1801 - val_loss: 1.7932 - val_accuracy: 0.1641\n",
      "Epoch 99/200\n",
      "2188/2188 [==============================] - 9s 4ms/step - loss: 1.7896 - accuracy: 0.1786 - val_loss: 1.7928 - val_accuracy: 0.1629\n",
      "Epoch 100/200\n",
      "2188/2188 [==============================] - 10s 4ms/step - loss: 1.7894 - accuracy: 0.1790 - val_loss: 1.7927 - val_accuracy: 0.1630\n",
      "Epoch 101/200\n",
      "2188/2188 [==============================] - 8s 4ms/step - loss: 1.7896 - accuracy: 0.1785 - val_loss: 1.7929 - val_accuracy: 0.1660\n",
      "Epoch 102/200\n",
      "2188/2188 [==============================] - 9s 4ms/step - loss: 1.7892 - accuracy: 0.1803 - val_loss: 1.7928 - val_accuracy: 0.1672\n",
      "Epoch 103/200\n",
      "2188/2188 [==============================] - 8s 4ms/step - loss: 1.7897 - accuracy: 0.1772 - val_loss: 1.7930 - val_accuracy: 0.1643\n",
      "Epoch 104/200\n",
      "2188/2188 [==============================] - 10s 4ms/step - loss: 1.7893 - accuracy: 0.1772 - val_loss: 1.7929 - val_accuracy: 0.1656\n",
      "Epoch 105/200\n",
      "2188/2188 [==============================] - 9s 4ms/step - loss: 1.7893 - accuracy: 0.1787 - val_loss: 1.7929 - val_accuracy: 0.1666\n",
      "Epoch 106/200\n",
      "2188/2188 [==============================] - 8s 4ms/step - loss: 1.7894 - accuracy: 0.1820 - val_loss: 1.7932 - val_accuracy: 0.1661\n",
      "Epoch 107/200\n",
      "2188/2188 [==============================] - 10s 4ms/step - loss: 1.7896 - accuracy: 0.1793 - val_loss: 1.7928 - val_accuracy: 0.1663\n",
      "Epoch 108/200\n",
      "2188/2188 [==============================] - 9s 4ms/step - loss: 1.7893 - accuracy: 0.1800 - val_loss: 1.7929 - val_accuracy: 0.1676\n",
      "Epoch 109/200\n",
      "2188/2188 [==============================] - 9s 4ms/step - loss: 1.7897 - accuracy: 0.1771 - val_loss: 1.7931 - val_accuracy: 0.1654\n",
      "Epoch 110/200\n",
      "2188/2188 [==============================] - 8s 4ms/step - loss: 1.7893 - accuracy: 0.1804 - val_loss: 1.7929 - val_accuracy: 0.1652\n",
      "Epoch 111/200\n",
      "2188/2188 [==============================] - 8s 3ms/step - loss: 1.7893 - accuracy: 0.1780 - val_loss: 1.7929 - val_accuracy: 0.1668\n",
      "Epoch 112/200\n",
      "2188/2188 [==============================] - 12s 5ms/step - loss: 1.7895 - accuracy: 0.1771 - val_loss: 1.7928 - val_accuracy: 0.1666\n",
      "Epoch 113/200\n",
      "2188/2188 [==============================] - 10s 5ms/step - loss: 1.7889 - accuracy: 0.1809 - val_loss: 1.7930 - val_accuracy: 0.1695\n",
      "Epoch 114/200\n",
      "2188/2188 [==============================] - 13s 6ms/step - loss: 1.7891 - accuracy: 0.1793 - val_loss: 1.7931 - val_accuracy: 0.1668\n",
      "Epoch 115/200\n",
      "2188/2188 [==============================] - 8s 4ms/step - loss: 1.7891 - accuracy: 0.1807 - val_loss: 1.7927 - val_accuracy: 0.1654\n",
      "Epoch 116/200\n",
      "2188/2188 [==============================] - 9s 4ms/step - loss: 1.7892 - accuracy: 0.1782 - val_loss: 1.7931 - val_accuracy: 0.1664\n",
      "Epoch 117/200\n",
      "2188/2188 [==============================] - 8s 4ms/step - loss: 1.7891 - accuracy: 0.1774 - val_loss: 1.7931 - val_accuracy: 0.1649\n",
      "Epoch 118/200\n",
      "2188/2188 [==============================] - 9s 4ms/step - loss: 1.7891 - accuracy: 0.1803 - val_loss: 1.7930 - val_accuracy: 0.1662\n",
      "Epoch 119/200\n",
      "2188/2188 [==============================] - 10s 4ms/step - loss: 1.7890 - accuracy: 0.1817 - val_loss: 1.7929 - val_accuracy: 0.1655\n",
      "Epoch 120/200\n",
      "2188/2188 [==============================] - 10s 4ms/step - loss: 1.7893 - accuracy: 0.1784 - val_loss: 1.7929 - val_accuracy: 0.1651\n",
      "Epoch 121/200\n",
      "2188/2188 [==============================] - 11s 5ms/step - loss: 1.7894 - accuracy: 0.1784 - val_loss: 1.7932 - val_accuracy: 0.1645\n",
      "Epoch 122/200\n",
      "2188/2188 [==============================] - 9s 4ms/step - loss: 1.7895 - accuracy: 0.1818 - val_loss: 1.7928 - val_accuracy: 0.1648\n",
      "Epoch 123/200\n",
      "2188/2188 [==============================] - 8s 4ms/step - loss: 1.7893 - accuracy: 0.1778 - val_loss: 1.7927 - val_accuracy: 0.1638\n",
      "Epoch 124/200\n",
      "2188/2188 [==============================] - 9s 4ms/step - loss: 1.7893 - accuracy: 0.1805 - val_loss: 1.7929 - val_accuracy: 0.1635\n",
      "Epoch 125/200\n",
      "2188/2188 [==============================] - 8s 4ms/step - loss: 1.7892 - accuracy: 0.1781 - val_loss: 1.7929 - val_accuracy: 0.1633\n",
      "Epoch 126/200\n",
      "2188/2188 [==============================] - 8s 4ms/step - loss: 1.7891 - accuracy: 0.1792 - val_loss: 1.7930 - val_accuracy: 0.1652\n",
      "Epoch 127/200\n",
      "2188/2188 [==============================] - 9s 4ms/step - loss: 1.7895 - accuracy: 0.1799 - val_loss: 1.7931 - val_accuracy: 0.1636\n",
      "Epoch 128/200\n",
      "2188/2188 [==============================] - 9s 4ms/step - loss: 1.7893 - accuracy: 0.1803 - val_loss: 1.7930 - val_accuracy: 0.1663\n",
      "Epoch 129/200\n",
      "2188/2188 [==============================] - 9s 4ms/step - loss: 1.7893 - accuracy: 0.1808 - val_loss: 1.7935 - val_accuracy: 0.1641\n",
      "Epoch 130/200\n",
      "2188/2188 [==============================] - 9s 4ms/step - loss: 1.7892 - accuracy: 0.1800 - val_loss: 1.7929 - val_accuracy: 0.1657\n",
      "Epoch 131/200\n",
      "2188/2188 [==============================] - 9s 4ms/step - loss: 1.7891 - accuracy: 0.1775 - val_loss: 1.7930 - val_accuracy: 0.1652\n",
      "Epoch 132/200\n",
      "2188/2188 [==============================] - 8s 4ms/step - loss: 1.7892 - accuracy: 0.1811 - val_loss: 1.7928 - val_accuracy: 0.1654\n",
      "Epoch 133/200\n",
      "2188/2188 [==============================] - 8s 4ms/step - loss: 1.7890 - accuracy: 0.1792 - val_loss: 1.7930 - val_accuracy: 0.1646\n",
      "Epoch 134/200\n",
      "2188/2188 [==============================] - 8s 4ms/step - loss: 1.7891 - accuracy: 0.1781 - val_loss: 1.7931 - val_accuracy: 0.1671\n",
      "Epoch 135/200\n",
      "2188/2188 [==============================] - 9s 4ms/step - loss: 1.7892 - accuracy: 0.1804 - val_loss: 1.7933 - val_accuracy: 0.1667\n",
      "Epoch 136/200\n",
      "2188/2188 [==============================] - 9s 4ms/step - loss: 1.7891 - accuracy: 0.1800 - val_loss: 1.7927 - val_accuracy: 0.1673\n",
      "Epoch 137/200\n",
      "2188/2188 [==============================] - 8s 4ms/step - loss: 1.7888 - accuracy: 0.1805 - val_loss: 1.7929 - val_accuracy: 0.1657\n",
      "Epoch 138/200\n",
      "2188/2188 [==============================] - 8s 4ms/step - loss: 1.7890 - accuracy: 0.1793 - val_loss: 1.7929 - val_accuracy: 0.1671\n",
      "Epoch 139/200\n",
      "2188/2188 [==============================] - 10s 4ms/step - loss: 1.7890 - accuracy: 0.1808 - val_loss: 1.7926 - val_accuracy: 0.1672\n",
      "Epoch 140/200\n",
      "2188/2188 [==============================] - 8s 4ms/step - loss: 1.7892 - accuracy: 0.1794 - val_loss: 1.7931 - val_accuracy: 0.1669\n",
      "Epoch 141/200\n",
      "2188/2188 [==============================] - 9s 4ms/step - loss: 1.7892 - accuracy: 0.1765 - val_loss: 1.7930 - val_accuracy: 0.1643\n",
      "Epoch 142/200\n",
      "2188/2188 [==============================] - 8s 4ms/step - loss: 1.7889 - accuracy: 0.1796 - val_loss: 1.7930 - val_accuracy: 0.1654\n",
      "Epoch 143/200\n",
      "2188/2188 [==============================] - 9s 4ms/step - loss: 1.7889 - accuracy: 0.1798 - val_loss: 1.7932 - val_accuracy: 0.1659\n",
      "Epoch 144/200\n",
      "2188/2188 [==============================] - 9s 4ms/step - loss: 1.7891 - accuracy: 0.1783 - val_loss: 1.7933 - val_accuracy: 0.1627\n",
      "Epoch 145/200\n",
      "2188/2188 [==============================] - 9s 4ms/step - loss: 1.7894 - accuracy: 0.1793 - val_loss: 1.7929 - val_accuracy: 0.1663\n",
      "Epoch 146/200\n",
      "2188/2188 [==============================] - 8s 4ms/step - loss: 1.7889 - accuracy: 0.1807 - val_loss: 1.7930 - val_accuracy: 0.1676\n",
      "Epoch 147/200\n",
      "2188/2188 [==============================] - 9s 4ms/step - loss: 1.7889 - accuracy: 0.1794 - val_loss: 1.7932 - val_accuracy: 0.1650\n",
      "Epoch 148/200\n",
      "2188/2188 [==============================] - 12s 6ms/step - loss: 1.7886 - accuracy: 0.1798 - val_loss: 1.7932 - val_accuracy: 0.1671\n",
      "Epoch 149/200\n",
      "2188/2188 [==============================] - 10s 5ms/step - loss: 1.7890 - accuracy: 0.1796 - val_loss: 1.7929 - val_accuracy: 0.1650\n",
      "Epoch 150/200\n",
      "2188/2188 [==============================] - 10s 4ms/step - loss: 1.7889 - accuracy: 0.1792 - val_loss: 1.7929 - val_accuracy: 0.1655\n",
      "Epoch 151/200\n",
      "2188/2188 [==============================] - 12s 6ms/step - loss: 1.7885 - accuracy: 0.1804 - val_loss: 1.7932 - val_accuracy: 0.1658\n",
      "Epoch 152/200\n",
      "2188/2188 [==============================] - 12s 6ms/step - loss: 1.7889 - accuracy: 0.1786 - val_loss: 1.7930 - val_accuracy: 0.1646\n",
      "Epoch 153/200\n",
      "2188/2188 [==============================] - 12s 5ms/step - loss: 1.7888 - accuracy: 0.1790 - val_loss: 1.7929 - val_accuracy: 0.1653\n",
      "Epoch 154/200\n",
      "2188/2188 [==============================] - 12s 6ms/step - loss: 1.7887 - accuracy: 0.1793 - val_loss: 1.7929 - val_accuracy: 0.1658\n",
      "Epoch 155/200\n",
      "2188/2188 [==============================] - 10s 4ms/step - loss: 1.7888 - accuracy: 0.1788 - val_loss: 1.7929 - val_accuracy: 0.1658\n",
      "Epoch 156/200\n",
      "2188/2188 [==============================] - 11s 5ms/step - loss: 1.7885 - accuracy: 0.1820 - val_loss: 1.7932 - val_accuracy: 0.1647\n",
      "Epoch 157/200\n",
      "2188/2188 [==============================] - 9s 4ms/step - loss: 1.7883 - accuracy: 0.1791 - val_loss: 1.7928 - val_accuracy: 0.1663\n",
      "Epoch 158/200\n",
      "2188/2188 [==============================] - 9s 4ms/step - loss: 1.7884 - accuracy: 0.1792 - val_loss: 1.7934 - val_accuracy: 0.1663\n",
      "Epoch 159/200\n",
      "2188/2188 [==============================] - 9s 4ms/step - loss: 1.7894 - accuracy: 0.1778 - val_loss: 1.7928 - val_accuracy: 0.1651\n",
      "Epoch 160/200\n",
      "2188/2188 [==============================] - 12s 5ms/step - loss: 1.7889 - accuracy: 0.1794 - val_loss: 1.7930 - val_accuracy: 0.1651\n",
      "Epoch 161/200\n",
      "2188/2188 [==============================] - 10s 4ms/step - loss: 1.7886 - accuracy: 0.1810 - val_loss: 1.7929 - val_accuracy: 0.1656\n",
      "Epoch 162/200\n",
      "2188/2188 [==============================] - 9s 4ms/step - loss: 1.7890 - accuracy: 0.1784 - val_loss: 1.7927 - val_accuracy: 0.1670\n",
      "Epoch 163/200\n",
      "2188/2188 [==============================] - 10s 4ms/step - loss: 1.7882 - accuracy: 0.1824 - val_loss: 1.7929 - val_accuracy: 0.1654\n",
      "Epoch 164/200\n",
      "2188/2188 [==============================] - 9s 4ms/step - loss: 1.7884 - accuracy: 0.1797 - val_loss: 1.7933 - val_accuracy: 0.1645\n",
      "Epoch 165/200\n",
      "2188/2188 [==============================] - 8s 4ms/step - loss: 1.7880 - accuracy: 0.1806 - val_loss: 1.7931 - val_accuracy: 0.1653\n",
      "Epoch 166/200\n",
      "2188/2188 [==============================] - 10s 4ms/step - loss: 1.7888 - accuracy: 0.1794 - val_loss: 1.7927 - val_accuracy: 0.1678\n",
      "Epoch 167/200\n",
      "2188/2188 [==============================] - 8s 4ms/step - loss: 1.7886 - accuracy: 0.1813 - val_loss: 1.7928 - val_accuracy: 0.1654\n",
      "Epoch 168/200\n",
      "2188/2188 [==============================] - 8s 4ms/step - loss: 1.7887 - accuracy: 0.1802 - val_loss: 1.7930 - val_accuracy: 0.1643\n",
      "Epoch 169/200\n",
      "2188/2188 [==============================] - 7s 3ms/step - loss: 1.7891 - accuracy: 0.1812 - val_loss: 1.7929 - val_accuracy: 0.1654\n",
      "Epoch 170/200\n",
      "2188/2188 [==============================] - 7s 3ms/step - loss: 1.7884 - accuracy: 0.1828 - val_loss: 1.7931 - val_accuracy: 0.1640\n",
      "Epoch 171/200\n",
      "2188/2188 [==============================] - 8s 4ms/step - loss: 1.7883 - accuracy: 0.1829 - val_loss: 1.7930 - val_accuracy: 0.1663\n",
      "Epoch 172/200\n",
      "2188/2188 [==============================] - 9s 4ms/step - loss: 1.7888 - accuracy: 0.1789 - val_loss: 1.7926 - val_accuracy: 0.1677\n",
      "Epoch 173/200\n",
      "2188/2188 [==============================] - 8s 4ms/step - loss: 1.7887 - accuracy: 0.1784 - val_loss: 1.7930 - val_accuracy: 0.1683\n",
      "Epoch 174/200\n",
      "2188/2188 [==============================] - 9s 4ms/step - loss: 1.7886 - accuracy: 0.1812 - val_loss: 1.7932 - val_accuracy: 0.1651\n",
      "Epoch 175/200\n",
      "2188/2188 [==============================] - 10s 4ms/step - loss: 1.7883 - accuracy: 0.1832 - val_loss: 1.7931 - val_accuracy: 0.1687\n",
      "Epoch 176/200\n",
      "2188/2188 [==============================] - 9s 4ms/step - loss: 1.7887 - accuracy: 0.1814 - val_loss: 1.7927 - val_accuracy: 0.1661\n",
      "Epoch 177/200\n",
      "2188/2188 [==============================] - 9s 4ms/step - loss: 1.7886 - accuracy: 0.1809 - val_loss: 1.7928 - val_accuracy: 0.1668\n",
      "Epoch 178/200\n",
      "2188/2188 [==============================] - 9s 4ms/step - loss: 1.7886 - accuracy: 0.1818 - val_loss: 1.7933 - val_accuracy: 0.1651\n",
      "Epoch 179/200\n",
      "2188/2188 [==============================] - 10s 5ms/step - loss: 1.7886 - accuracy: 0.1806 - val_loss: 1.7930 - val_accuracy: 0.1646\n",
      "Epoch 180/200\n",
      "2188/2188 [==============================] - 10s 5ms/step - loss: 1.7884 - accuracy: 0.1810 - val_loss: 1.7930 - val_accuracy: 0.1663\n",
      "Epoch 181/200\n",
      "2188/2188 [==============================] - 13s 6ms/step - loss: 1.7889 - accuracy: 0.1801 - val_loss: 1.7928 - val_accuracy: 0.1650\n",
      "Epoch 182/200\n",
      "2188/2188 [==============================] - 8s 4ms/step - loss: 1.7887 - accuracy: 0.1823 - val_loss: 1.7929 - val_accuracy: 0.1659\n",
      "Epoch 183/200\n",
      "2188/2188 [==============================] - 8s 4ms/step - loss: 1.7885 - accuracy: 0.1814 - val_loss: 1.7927 - val_accuracy: 0.1663\n",
      "Epoch 184/200\n",
      "2188/2188 [==============================] - 10s 5ms/step - loss: 1.7882 - accuracy: 0.1808 - val_loss: 1.7927 - val_accuracy: 0.1682\n",
      "Epoch 185/200\n",
      "2188/2188 [==============================] - 10s 4ms/step - loss: 1.7889 - accuracy: 0.1787 - val_loss: 1.7930 - val_accuracy: 0.1653\n",
      "Epoch 186/200\n",
      "2188/2188 [==============================] - 9s 4ms/step - loss: 1.7889 - accuracy: 0.1786 - val_loss: 1.7929 - val_accuracy: 0.1652\n",
      "Epoch 187/200\n",
      "2188/2188 [==============================] - 9s 4ms/step - loss: 1.7884 - accuracy: 0.1812 - val_loss: 1.7931 - val_accuracy: 0.1655\n",
      "Epoch 188/200\n",
      "2188/2188 [==============================] - 9s 4ms/step - loss: 1.7882 - accuracy: 0.1784 - val_loss: 1.7929 - val_accuracy: 0.1686\n",
      "Epoch 189/200\n",
      "2188/2188 [==============================] - 9s 4ms/step - loss: 1.7883 - accuracy: 0.1821 - val_loss: 1.7936 - val_accuracy: 0.1654\n",
      "Epoch 190/200\n",
      "2188/2188 [==============================] - 9s 4ms/step - loss: 1.7886 - accuracy: 0.1849 - val_loss: 1.7934 - val_accuracy: 0.1654\n",
      "Epoch 191/200\n",
      "2188/2188 [==============================] - 9s 4ms/step - loss: 1.7884 - accuracy: 0.1831 - val_loss: 1.7935 - val_accuracy: 0.1652\n",
      "Epoch 192/200\n",
      "2188/2188 [==============================] - 8s 4ms/step - loss: 1.7887 - accuracy: 0.1811 - val_loss: 1.7932 - val_accuracy: 0.1643\n",
      "Epoch 193/200\n",
      "2188/2188 [==============================] - 8s 4ms/step - loss: 1.7885 - accuracy: 0.1803 - val_loss: 1.7931 - val_accuracy: 0.1648\n",
      "Epoch 194/200\n",
      "2188/2188 [==============================] - 9s 4ms/step - loss: 1.7878 - accuracy: 0.1810 - val_loss: 1.7931 - val_accuracy: 0.1678\n",
      "Epoch 195/200\n",
      "2188/2188 [==============================] - 8s 4ms/step - loss: 1.7882 - accuracy: 0.1827 - val_loss: 1.7934 - val_accuracy: 0.1672\n",
      "Epoch 196/200\n",
      "2188/2188 [==============================] - 9s 4ms/step - loss: 1.7880 - accuracy: 0.1822 - val_loss: 1.7935 - val_accuracy: 0.1650\n",
      "Epoch 197/200\n",
      "2188/2188 [==============================] - 8s 4ms/step - loss: 1.7883 - accuracy: 0.1811 - val_loss: 1.7932 - val_accuracy: 0.1673\n",
      "Epoch 198/200\n",
      "2188/2188 [==============================] - 9s 4ms/step - loss: 1.7881 - accuracy: 0.1821 - val_loss: 1.7935 - val_accuracy: 0.1664\n",
      "Epoch 199/200\n",
      "2188/2188 [==============================] - 8s 4ms/step - loss: 1.7885 - accuracy: 0.1809 - val_loss: 1.7934 - val_accuracy: 0.1664\n",
      "Epoch 200/200\n",
      "2188/2188 [==============================] - 8s 4ms/step - loss: 1.7882 - accuracy: 0.1837 - val_loss: 1.7933 - val_accuracy: 0.1654\n"
     ]
    },
    {
     "data": {
      "text/plain": "<keras.callbacks.History at 0x14b06cf40>"
     },
     "execution_count": 10,
     "metadata": {},
     "output_type": "execute_result"
    }
   ],
   "source": [
    "model.fit(X_train_scaled, y_train_encoded, epochs=200, batch_size=32, validation_data=(X_test_scaled, y_test_encoded))"
   ],
   "metadata": {
    "collapsed": false,
    "ExecuteTime": {
     "start_time": "2024-01-10T05:44:21.683155Z",
     "end_time": "2024-01-10T06:16:44.718347Z"
    }
   }
  },
  {
   "cell_type": "code",
   "execution_count": 11,
   "outputs": [
    {
     "name": "stdout",
     "output_type": "stream",
     "text": [
      "938/938 [==============================] - 2s 2ms/step - loss: 1.7933 - accuracy: 0.1654\n",
      "Accuracy: 16.54%\n"
     ]
    }
   ],
   "source": [
    "accuracy = model.evaluate(X_test_scaled, y_test_encoded)[1]\n",
    "print(f'Accuracy: {accuracy * 100:.2f}%')"
   ],
   "metadata": {
    "collapsed": false,
    "ExecuteTime": {
     "start_time": "2024-01-10T06:16:44.707045Z",
     "end_time": "2024-01-10T06:16:47.629764Z"
    }
   }
  },
  {
   "cell_type": "code",
   "execution_count": 12,
   "outputs": [
    {
     "name": "stdout",
     "output_type": "stream",
     "text": [
      "938/938 [==============================] - 2s 2ms/step\n"
     ]
    }
   ],
   "source": [
    "predictions = model.predict(X_test_scaled)\n",
    "predicted_classes = predictions.argmax(axis=1)"
   ],
   "metadata": {
    "collapsed": false,
    "ExecuteTime": {
     "start_time": "2024-01-10T06:16:47.388924Z",
     "end_time": "2024-01-10T06:16:50.374569Z"
    }
   }
  },
  {
   "cell_type": "code",
   "execution_count": 13,
   "outputs": [
    {
     "data": {
      "text/plain": "array([3, 2, 5, ..., 5, 2, 2])"
     },
     "execution_count": 13,
     "metadata": {},
     "output_type": "execute_result"
    }
   ],
   "source": [
    "predicted_classes"
   ],
   "metadata": {
    "collapsed": false,
    "ExecuteTime": {
     "start_time": "2024-01-10T06:16:50.370825Z",
     "end_time": "2024-01-10T06:16:50.441206Z"
    }
   }
  },
  {
   "cell_type": "code",
   "execution_count": 14,
   "outputs": [
    {
     "data": {
      "text/plain": "75721    0\n80184    1\n19864    3\n76699    1\n92991    3\n        ..\n42648    4\n86306    3\n45466    1\n63724    3\n34122    3\nName: hair_fall, Length: 30000, dtype: int64"
     },
     "execution_count": 14,
     "metadata": {},
     "output_type": "execute_result"
    }
   ],
   "source": [
    "y_test"
   ],
   "metadata": {
    "collapsed": false,
    "ExecuteTime": {
     "start_time": "2024-01-10T06:16:50.383434Z",
     "end_time": "2024-01-10T06:16:50.563932Z"
    }
   }
  },
  {
   "cell_type": "code",
   "execution_count": 15,
   "outputs": [
    {
     "data": {
      "text/plain": "array([[ 434, 1036, 2272,  779,   76,  439],\n       [ 405, 1067, 2252,  771,   75,  454],\n       [ 434, 1040, 2191,  760,   78,  423],\n       [ 450, 1048, 2202,  778,   87,  428],\n       [ 434, 1087, 2243,  778,   75,  395],\n       [ 425, 1079, 2179,  839,   69,  418]])"
     },
     "execution_count": 15,
     "metadata": {},
     "output_type": "execute_result"
    }
   ],
   "source": [
    "cm = confusion_matrix(y_test, predicted_classes)\n",
    "cm"
   ],
   "metadata": {
    "collapsed": false,
    "ExecuteTime": {
     "start_time": "2024-01-10T06:16:50.403687Z",
     "end_time": "2024-01-10T06:16:50.676250Z"
    }
   }
  },
  {
   "cell_type": "code",
   "execution_count": 16,
   "outputs": [
    {
     "data": {
      "text/plain": "<Figure size 640x480 with 2 Axes>",
      "image/png": "[encoded data removed]"
     },
     "metadata": {},
     "output_type": "display_data"
    }
   ],
   "source": [
    "classes = np.unique(y_train)\n",
    "plt.imshow(cm, interpolation='nearest', cmap=plt.cm.Blues)\n",
    "plt.title(\"Confusion Matrix\")\n",
    "plt.colorbar()\n",
    "tick_marks = np.arange(len(classes))\n",
    "plt.xticks(tick_marks, classes)\n",
    "plt.yticks(tick_marks, classes)\n",
    "plt.xticks(rotation='vertical')\n",
    "\n",
    "plt.xlabel('Vorhergesagte Klasse')\n",
    "plt.ylabel('Tatsächliche Klasse')\n",
    "plt.show()"
   ],
   "metadata": {
    "collapsed": false,
    "ExecuteTime": {
     "start_time": "2024-01-10T06:16:50.427378Z",
     "end_time": "2024-01-10T06:16:51.216775Z"
    }
   }
  },
  {
   "cell_type": "code",
   "execution_count": 17,
   "outputs": [
    {
     "name": "stdout",
     "output_type": "stream",
     "text": [
      "              precision    recall  f1-score   support\n",
      "\n",
      "           0       0.17      0.09      0.11      5036\n",
      "           1       0.17      0.21      0.19      5024\n",
      "           2       0.16      0.44      0.24      4926\n",
      "           3       0.17      0.16      0.16      4993\n",
      "           4       0.16      0.01      0.03      5012\n",
      "           5       0.16      0.08      0.11      5009\n",
      "\n",
      "    accuracy                           0.17     30000\n",
      "   macro avg       0.17      0.17      0.14     30000\n",
      "weighted avg       0.17      0.17      0.14     30000\n",
      "\n"
     ]
    }
   ],
   "source": [
    "classification_report_result = classification_report(y_test, predicted_classes)\n",
    "print(classification_report_result)"
   ],
   "metadata": {
    "collapsed": false,
    "ExecuteTime": {
     "start_time": "2024-01-10T06:16:51.168737Z",
     "end_time": "2024-01-10T06:16:51.458142Z"
    }
   }
  },
  {
   "cell_type": "code",
   "execution_count": 17,
   "outputs": [],
   "source": [],
   "metadata": {
    "collapsed": false,
    "ExecuteTime": {
     "start_time": "2024-01-10T06:16:51.351433Z",
     "end_time": "2024-01-10T06:16:51.535944Z"
    }
   }
  },
  {
   "cell_type": "code",
   "execution_count": 17,
   "outputs": [],
   "source": [],
   "metadata": {
    "collapsed": false,
    "ExecuteTime": {
     "start_time": "2024-01-10T06:16:51.364464Z",
     "end_time": "2024-01-10T06:16:51.609252Z"
    }
   }
  },
  {
   "cell_type": "code",
   "execution_count": 17,
   "outputs": [],
   "source": [],
   "metadata": {
    "collapsed": false,
    "ExecuteTime": {
     "start_time": "2024-01-10T06:16:51.438480Z",
     "end_time": "2024-01-10T06:16:51.710840Z"
    }
   }
  },
  {
   "cell_type": "code",
   "execution_count": 18,
   "outputs": [
    {
     "name": "stdout",
     "output_type": "stream",
     "text": [
      "\r\n",
      "CondaError: Run 'conda init' before 'conda activate'\r\n",
      "\r\n",
      "\n",
      "Note: you may need to restart the kernel to use updated packages.\n"
     ]
    }
   ],
   "source": [],
   "metadata": {
    "collapsed": false,
    "ExecuteTime": {
     "start_time": "2024-01-10T06:16:51.447241Z",
     "end_time": "2024-01-10T06:16:56.430720Z"
    }
   }
  },
  {
   "cell_type": "code",
   "execution_count": 18,
   "outputs": [],
   "source": [],
   "metadata": {
    "collapsed": false,
    "ExecuteTime": {
     "start_time": "2024-01-10T06:16:56.382432Z",
     "end_time": "2024-01-10T06:16:56.430844Z"
    }
   }
  }
 ],
 "metadata": {
  "kernelspec": {
   "display_name": "Python 3",
   "language": "python",
   "name": "python3"
  },
  "language_info": {
   "codemirror_mode": {
    "name": "ipython",
    "version": 2
   },
   "file_extension": ".py",
   "mimetype": "text/x-python",
   "name": "python",
   "nbconvert_exporter": "python",
   "pygments_lexer": "ipython2",
   "version": "2.7.6"
  }
 },
 "nbformat": 4,
 "nbformat_minor": 0
}
